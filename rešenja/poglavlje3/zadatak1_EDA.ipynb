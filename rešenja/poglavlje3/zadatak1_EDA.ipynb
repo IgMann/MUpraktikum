{
 "cells": [
  {
   "cell_type": "markdown",
   "metadata": {
    "id": "OUr60AOWRYMx"
   },
   "source": [
    "# Vežba 3: EDA\n",
    "---\n",
    "\n"
   ]
  },
  {
   "cell_type": "markdown",
   "metadata": {
    "id": "OBKoVCr5qXA-"
   },
   "source": [
    "Prvo je potrebno učitati biblioteke za rad sa podacima i iscrtavanje."
   ]
  },
  {
   "cell_type": "code",
   "execution_count": null,
   "metadata": {
    "id": "VTLRSeTrp_81"
   },
   "outputs": [],
   "source": [
    "# učitavanje biblioteka\n",
    "import pandas as pd\n",
    "import matplotlib.pyplot as plt\n",
    "import numpy as np\n",
    "\n",
    "# podešavanja ispisa\n",
    "pd.set_option('display.float_format', lambda x: '%.2f' % x) # prikaz df na 2 decimale (npr. za describe)\n",
    "celzijusi = u'\\N{DEGREE SIGN}C' # oznaka za stepene celzijusa"
   ]
  },
  {
   "cell_type": "markdown",
   "metadata": {
    "id": "zhyC4OgSqjCz"
   },
   "source": [
    "U radni folder kopirati datoteku *city_temperature.csv*. Podatke možete naći [ovde](https://www.kaggle.com/sudalairajkumar/daily-temperature-of-major-cities/data?select=city_temperature.csv). \n",
    "\n",
    "Treba učitati skup podataka o prosečnim dnevnim temperaturama u najvećim svetskim gradovima. Kog formata su podaci? Šta se nalazi po vrstama, a šta po kolonama - šta su uzorci, a šta obeležja? Koliko ima uzoraka, a koliko obeležja? Za odgovor na ova pitanja iskoristiti `shape` i `dtypes`.\n"
   ]
  },
  {
   "cell_type": "code",
   "execution_count": 2,
   "metadata": {
    "colab": {
     "base_uri": "https://localhost:8080/",
     "height": 471
    },
    "id": "zEOM6Vriq0Fz",
    "outputId": "d8290b36-1907-4ebd-9415-032c3cbac2b7"
   },
   "outputs": [
    {
     "name": "stderr",
     "output_type": "stream",
     "text": [
      "D:\\Program Files\\Python\\lib\\site-packages\\IPython\\core\\interactiveshell.py:3049: DtypeWarning: Columns (2) have mixed types. Specify dtype option on import or set low_memory=False.\n",
      "  interactivity=interactivity, compiler=compiler, result=result)\n"
     ]
    },
    {
     "name": "stdout",
     "output_type": "stream",
     "text": [
      "shape: \n",
      " (2906327, 8)\n",
      "\n",
      " types:\n",
      " Region             object\n",
      "Country            object\n",
      "State              object\n",
      "City               object\n",
      "Month               int64\n",
      "Day                 int64\n",
      "Year                int64\n",
      "AvgTemperature    float64\n",
      "dtype: object \n",
      "\n"
     ]
    },
    {
     "data": {
      "text/html": [
       "<div>\n",
       "<style scoped>\n",
       "    .dataframe tbody tr th:only-of-type {\n",
       "        vertical-align: middle;\n",
       "    }\n",
       "\n",
       "    .dataframe tbody tr th {\n",
       "        vertical-align: top;\n",
       "    }\n",
       "\n",
       "    .dataframe thead th {\n",
       "        text-align: right;\n",
       "    }\n",
       "</style>\n",
       "<table border=\"1\" class=\"dataframe\">\n",
       "  <thead>\n",
       "    <tr style=\"text-align: right;\">\n",
       "      <th></th>\n",
       "      <th>Region</th>\n",
       "      <th>Country</th>\n",
       "      <th>State</th>\n",
       "      <th>City</th>\n",
       "      <th>Month</th>\n",
       "      <th>Day</th>\n",
       "      <th>Year</th>\n",
       "      <th>AvgTemperature</th>\n",
       "    </tr>\n",
       "  </thead>\n",
       "  <tbody>\n",
       "    <tr>\n",
       "      <th>0</th>\n",
       "      <td>Africa</td>\n",
       "      <td>Algeria</td>\n",
       "      <td>NaN</td>\n",
       "      <td>Algiers</td>\n",
       "      <td>1</td>\n",
       "      <td>1</td>\n",
       "      <td>1995</td>\n",
       "      <td>64.20</td>\n",
       "    </tr>\n",
       "    <tr>\n",
       "      <th>1</th>\n",
       "      <td>Africa</td>\n",
       "      <td>Algeria</td>\n",
       "      <td>NaN</td>\n",
       "      <td>Algiers</td>\n",
       "      <td>1</td>\n",
       "      <td>2</td>\n",
       "      <td>1995</td>\n",
       "      <td>49.40</td>\n",
       "    </tr>\n",
       "    <tr>\n",
       "      <th>2</th>\n",
       "      <td>Africa</td>\n",
       "      <td>Algeria</td>\n",
       "      <td>NaN</td>\n",
       "      <td>Algiers</td>\n",
       "      <td>1</td>\n",
       "      <td>3</td>\n",
       "      <td>1995</td>\n",
       "      <td>48.80</td>\n",
       "    </tr>\n",
       "    <tr>\n",
       "      <th>3</th>\n",
       "      <td>Africa</td>\n",
       "      <td>Algeria</td>\n",
       "      <td>NaN</td>\n",
       "      <td>Algiers</td>\n",
       "      <td>1</td>\n",
       "      <td>4</td>\n",
       "      <td>1995</td>\n",
       "      <td>46.40</td>\n",
       "    </tr>\n",
       "    <tr>\n",
       "      <th>4</th>\n",
       "      <td>Africa</td>\n",
       "      <td>Algeria</td>\n",
       "      <td>NaN</td>\n",
       "      <td>Algiers</td>\n",
       "      <td>1</td>\n",
       "      <td>5</td>\n",
       "      <td>1995</td>\n",
       "      <td>47.90</td>\n",
       "    </tr>\n",
       "  </tbody>\n",
       "</table>\n",
       "</div>"
      ],
      "text/plain": [
       "   Region  Country State     City  Month  Day  Year  AvgTemperature\n",
       "0  Africa  Algeria   NaN  Algiers      1    1  1995           64.20\n",
       "1  Africa  Algeria   NaN  Algiers      1    2  1995           49.40\n",
       "2  Africa  Algeria   NaN  Algiers      1    3  1995           48.80\n",
       "3  Africa  Algeria   NaN  Algiers      1    4  1995           46.40\n",
       "4  Africa  Algeria   NaN  Algiers      1    5  1995           47.90"
      ]
     },
     "execution_count": 2,
     "metadata": {},
     "output_type": "execute_result"
    }
   ],
   "source": [
    "# učitavanje u dataframe format\n",
    "df = pd.read_csv('city_temperature.csv')\n",
    "\n",
    "# format podataka\n",
    "print(\"shape: \\n\", df.shape)\n",
    "print(\"\\n types:\\n\", df.dtypes, \"\\n\")\n",
    "df.head()\n"
   ]
  },
  {
   "cell_type": "markdown",
   "metadata": {
    "id": "Ank5XD2iXoUM"
   },
   "source": [
    "Podaci za temperaturu su u farenhajtima, te ih zarad lakše interpretacije treba pretvoriti u celzijuse po formuli: \n",
    "\n",
    "T_celzijus = (T_farenhajt - 32) * 5/9."
   ]
  },
  {
   "cell_type": "code",
   "execution_count": 3,
   "metadata": {
    "colab": {
     "base_uri": "https://localhost:8080/",
     "height": 191
    },
    "id": "aM6QrCjGXwVP",
    "outputId": "608fe467-6e08-4fad-f2ab-eb60758e1036"
   },
   "outputs": [
    {
     "data": {
      "text/html": [
       "<div>\n",
       "<style scoped>\n",
       "    .dataframe tbody tr th:only-of-type {\n",
       "        vertical-align: middle;\n",
       "    }\n",
       "\n",
       "    .dataframe tbody tr th {\n",
       "        vertical-align: top;\n",
       "    }\n",
       "\n",
       "    .dataframe thead th {\n",
       "        text-align: right;\n",
       "    }\n",
       "</style>\n",
       "<table border=\"1\" class=\"dataframe\">\n",
       "  <thead>\n",
       "    <tr style=\"text-align: right;\">\n",
       "      <th></th>\n",
       "      <th>Region</th>\n",
       "      <th>Country</th>\n",
       "      <th>State</th>\n",
       "      <th>City</th>\n",
       "      <th>Month</th>\n",
       "      <th>Day</th>\n",
       "      <th>Year</th>\n",
       "      <th>AvgTemperature</th>\n",
       "    </tr>\n",
       "  </thead>\n",
       "  <tbody>\n",
       "    <tr>\n",
       "      <th>0</th>\n",
       "      <td>Africa</td>\n",
       "      <td>Algeria</td>\n",
       "      <td>NaN</td>\n",
       "      <td>Algiers</td>\n",
       "      <td>1</td>\n",
       "      <td>1</td>\n",
       "      <td>1995</td>\n",
       "      <td>17.89</td>\n",
       "    </tr>\n",
       "    <tr>\n",
       "      <th>1</th>\n",
       "      <td>Africa</td>\n",
       "      <td>Algeria</td>\n",
       "      <td>NaN</td>\n",
       "      <td>Algiers</td>\n",
       "      <td>1</td>\n",
       "      <td>2</td>\n",
       "      <td>1995</td>\n",
       "      <td>9.67</td>\n",
       "    </tr>\n",
       "    <tr>\n",
       "      <th>2</th>\n",
       "      <td>Africa</td>\n",
       "      <td>Algeria</td>\n",
       "      <td>NaN</td>\n",
       "      <td>Algiers</td>\n",
       "      <td>1</td>\n",
       "      <td>3</td>\n",
       "      <td>1995</td>\n",
       "      <td>9.33</td>\n",
       "    </tr>\n",
       "    <tr>\n",
       "      <th>3</th>\n",
       "      <td>Africa</td>\n",
       "      <td>Algeria</td>\n",
       "      <td>NaN</td>\n",
       "      <td>Algiers</td>\n",
       "      <td>1</td>\n",
       "      <td>4</td>\n",
       "      <td>1995</td>\n",
       "      <td>8.00</td>\n",
       "    </tr>\n",
       "    <tr>\n",
       "      <th>4</th>\n",
       "      <td>Africa</td>\n",
       "      <td>Algeria</td>\n",
       "      <td>NaN</td>\n",
       "      <td>Algiers</td>\n",
       "      <td>1</td>\n",
       "      <td>5</td>\n",
       "      <td>1995</td>\n",
       "      <td>8.83</td>\n",
       "    </tr>\n",
       "  </tbody>\n",
       "</table>\n",
       "</div>"
      ],
      "text/plain": [
       "   Region  Country State     City  Month  Day  Year  AvgTemperature\n",
       "0  Africa  Algeria   NaN  Algiers      1    1  1995           17.89\n",
       "1  Africa  Algeria   NaN  Algiers      1    2  1995            9.67\n",
       "2  Africa  Algeria   NaN  Algiers      1    3  1995            9.33\n",
       "3  Africa  Algeria   NaN  Algiers      1    4  1995            8.00\n",
       "4  Africa  Algeria   NaN  Algiers      1    5  1995            8.83"
      ]
     },
     "execution_count": 3,
     "metadata": {},
     "output_type": "execute_result"
    }
   ],
   "source": [
    "# Pretvaranje farenhajta u celzijuse\n",
    "to_celsius = (df['AvgTemperature'] - 32) * 5 / 9\n",
    "df['AvgTemperature'] = np.round(to_celsius, 2)\n",
    "df.head()"
   ]
  },
  {
   "cell_type": "markdown",
   "metadata": {
    "id": "LTXHU5SB1hKY"
   },
   "source": [
    "Proveriti da li je skup podataka potpun korišćenjem funkcije `isnull` i koliko podataka nedostaje u odnosu na ukupan broj uzoraka."
   ]
  },
  {
   "cell_type": "code",
   "execution_count": 6,
   "metadata": {
    "cellView": "code",
    "colab": {
     "base_uri": "https://localhost:8080/",
     "height": 342
    },
    "id": "aGOKVgSl1pEG",
    "outputId": "18844d8a-74f7-498b-b898-d5a098386fab"
   },
   "outputs": [
    {
     "name": "stdout",
     "output_type": "stream",
     "text": [
      "Region                  0\n",
      "Country                 0\n",
      "State             1450990\n",
      "City                    0\n",
      "Month                   0\n",
      "Day                     0\n",
      "Year                    0\n",
      "AvgTemperature          0\n",
      "dtype: int64\n",
      "\n",
      " Procenat NaN: \n",
      " Region            0.00\n",
      "Country           0.00\n",
      "State            49.93\n",
      "City              0.00\n",
      "Month             0.00\n",
      "Day               0.00\n",
      "Year              0.00\n",
      "AvgTemperature    0.00\n",
      "dtype: float64\n"
     ]
    }
   ],
   "source": [
    "NANs = df.isnull().sum()\n",
    "print(NANs)\n",
    "udeo = df.isnull().sum()/len(df)*100\n",
    "print(\"\\n Procenat NaN: \\n\", udeo)"
   ]
  },
  {
   "cell_type": "markdown",
   "metadata": {
    "id": "fQuTznHkIyYN"
   },
   "source": [
    "Proveriti koliko različitih regiona, država i saveznih država se nalazi u podacima (pomoć: nazivi kolona su *Region*, *Country* i *State*)."
   ]
  },
  {
   "cell_type": "code",
   "execution_count": 7,
   "metadata": {
    "colab": {
     "base_uri": "https://localhost:8080/",
     "height": 635
    },
    "id": "Wpq-KoMo8jVM",
    "outputId": "6b632b56-d8a0-4e76-c906-c2c3c0df2650"
   },
   "outputs": [
    {
     "name": "stdout",
     "output_type": "stream",
     "text": [
      "Regioni: \n",
      " ['Africa' 'Asia' 'Australia/South Pacific' 'Europe' 'Middle East'\n",
      " 'North America' 'South/Central America & Carribean']\n",
      "\n",
      " Države: \n",
      " ['Algeria' 'Burundi' 'Benin' 'Central African Republic' 'Congo' 'Egypt'\n",
      " 'Ethiopia' 'Gabon' 'Gambia' 'Guinea' 'Guinea-Bissau' 'Ivory Coast'\n",
      " 'Kenya' 'Morocco' 'Madagascar' 'Mauritania' 'Malawi' 'Mozambique'\n",
      " 'Namibia' 'Nigeria' 'Senegal' 'Sierra Leone' 'South Africa' 'Togo'\n",
      " 'Tunisia' 'Tanzania' 'Uganda' 'Zambia' 'Bangladesh' 'China' 'Hong Kong'\n",
      " 'India' 'Indonesia' 'Japan' 'Kazakhstan' 'Kyrgyzstan' 'Laos' 'Malaysia'\n",
      " 'Mongolia' 'Myanmar (Burma)' 'Nepal' 'North Korea' 'Pakistan'\n",
      " 'Philippines' 'Singapore' 'South Korea' 'Sri Lanka' 'Taiwan' 'Tajikistan'\n",
      " 'Thailand' 'Turkmenistan' 'Uzbekistan' 'Vietnam' 'Australia'\n",
      " 'New Zealand' 'Albania' 'Austria' 'Belarus' 'Belgium' 'Bulgaria'\n",
      " 'Croatia' 'Cyprus' 'Czech Republic' 'Denmark' 'Finland' 'France'\n",
      " 'Germany' 'Georgia' 'Greece' 'Hungary' 'Iceland' 'Ireland' 'Italy'\n",
      " 'Latvia' 'Macedonia' 'The Netherlands' 'Norway' 'Poland' 'Portugal'\n",
      " 'Romania' 'Russia' 'Serbia-Montenegro' 'Slovakia' 'Spain' 'Sweden'\n",
      " 'Switzerland' 'Ukraine' 'United Kingdom' 'Yugoslavia' 'Bahrain' 'Israel'\n",
      " 'Jordan' 'Kuwait' 'Lebanon' 'Oman' 'Qatar' 'Saudi Arabia' 'Syria'\n",
      " 'Turkey' 'United Arab Emirates' 'Canada' 'Mexico' 'Argentina' 'Bahamas'\n",
      " 'Bermuda' 'Belize' 'Bolivia' 'Barbados' 'Brazil' 'Colombia' 'Costa Rica'\n",
      " 'Cuba' 'Dominican Republic' 'Equador' 'Guatemala' 'Guyana' 'Haiti'\n",
      " 'Honduras' 'Nicaragua' 'Panama' 'Peru' 'Suriname' 'Uruguay' 'Venezuela'\n",
      " 'US']\n",
      "\n",
      " Savezne države: \n",
      " [nan 'Alabama' 'Alaska' 'Arizona' 'Arkansas' 'California' 'Colorado'\n",
      " 'Connecticut' 'Delaware' 'District of Columbia' 'Maryland' 'Florida'\n",
      " 'Georgia' 'Hawaii' 'Idaho' 'Illinois' 'Indiana' 'Iowa' 'Kansas'\n",
      " 'Kentucky' 'Louisiana' 'Maine' 'Massachusetts' 'Michigan' 'Minnesota'\n",
      " 'Mississippi' 'Missouri' 'Montana' 'Nebraska' 'Nevada' 'New Hampshire'\n",
      " 'New Jersey' 'New Mexico' 'New York' 'North Carolina' 'North Dakota'\n",
      " 'Ohio' 'Oklahoma' 'Oregon' 'Pennsylvania' 'Rhode Island' 'South Carolina'\n",
      " 'South Dakota' 'Tennessee' 'Texas' 'Utah' 'Vermont' 'Virginia'\n",
      " 'Washington' 'West Virginia' 'Wisconsin' 'Wyoming'\n",
      " 'Additional Territories']\n"
     ]
    }
   ],
   "source": [
    "print('Regioni: \\n', df['Region'].unique())\n",
    "print('\\n Države: \\n', df['Country'].unique())\n",
    "print('\\n Savezne države: \\n', df['State'].unique())"
   ]
  },
  {
   "cell_type": "markdown",
   "metadata": {
    "id": "T0gv8w6_8jVm"
   },
   "source": [
    "S obzirom da obeležje *State* postoji samo za američke gradove, to obeležje se može izbaciti iz razmatranja. Ako u kasnijoj analizi bude potrebno detaljnije ispitivanje američkih gradova po državama, može se ponovo uzeti u obzir."
   ]
  },
  {
   "cell_type": "code",
   "execution_count": 8,
   "metadata": {
    "id": "kmlTvSTG8jV6"
   },
   "outputs": [],
   "source": [
    "df.drop(['State'], inplace= True, axis = 1)"
   ]
  },
  {
   "cell_type": "markdown",
   "metadata": {
    "id": "ZODy7kXm8jWW"
   },
   "source": [
    "Izbacivanjem obeležja *State* je rešen problem nedostajućih podataka, pa se mogu analizirati ostala obeležja. Sledeće treba izračunati osnovne statističke veličine za svako od obeležja pomoću funkcije `describe`."
   ]
  },
  {
   "cell_type": "code",
   "execution_count": 9,
   "metadata": {
    "colab": {
     "base_uri": "https://localhost:8080/",
     "height": 163
    },
    "id": "aOf9-gEFWMxh",
    "outputId": "058edd0f-0851-44a9-8f9b-6dbb27a86182"
   },
   "outputs": [
    {
     "name": "stdout",
     "output_type": "stream",
     "text": [
      "           Month        Day       Year  AvgTemperature\n",
      "count 2906327.00 2906327.00 2906327.00      2906327.00\n",
      "mean        6.47      15.72    2006.62           13.34\n",
      "std         3.46       8.80      23.38           17.85\n",
      "min         1.00       0.00     200.00          -72.78\n",
      "25%         3.00       8.00    2001.00            7.67\n",
      "50%         6.00      16.00    2007.00           16.94\n",
      "75%         9.00      23.00    2013.00           24.17\n",
      "max        12.00      31.00    2020.00           43.33\n"
     ]
    }
   ],
   "source": [
    "print(df.describe())"
   ]
  },
  {
   "cell_type": "markdown",
   "metadata": {
    "id": "0LNnMdYo8jW-"
   },
   "source": [
    "Na osnovu minimalne i maksimalne vrednosti, može se videti da mesec ide od 1 do 12, što deluje u redu. Dani idu od 0 do 31, što nije u skladu sa očekivanjima. Razlog je najverovatnije zamena nedostajućih vrednosti za obeležje *Day* nulama, što bi moglo da uzrokuje probleme pri daljoj analizi. Kod obeležja *Year* sumnjivo je postojanje 200. godine. Ispisom svih različitih vrednosti godina iz baze se može videti da li je to greška ili možda oznaka za nedostajuću vrednost. Takođe se primećuje da je najniža temperatura čak -72.78, što teoretski može biti stvarna vrednost (najniža zabeležena temperatura je -89 na Antarktiku), međutim imajući u vidu da se meri u gradovima i pogotovo ako ima veći broj takvih vrednosti, onda je najverovatnije -72.78 C tj. -99 F bila oznaka za nedostajuće vrednosti."
   ]
  },
  {
   "cell_type": "code",
   "execution_count": 10,
   "metadata": {
    "colab": {
     "base_uri": "https://localhost:8080/",
     "height": 50
    },
    "id": "arrN_ZkW8jW_",
    "outputId": "e9a49c49-87ac-4d9a-d7ca-0f5f31185e94"
   },
   "outputs": [
    {
     "name": "stdout",
     "output_type": "stream",
     "text": [
      "[1995 1996 1997 1998 1999 2000 2001 2002 2003 2004 2005 2006 2007 2008\n",
      " 2009 2010 2011 2012 2013 2014 2015 2016 2017 2018 2019 2020  201  200]\n"
     ]
    }
   ],
   "source": [
    "print(df['Year'].unique())"
   ]
  },
  {
   "cell_type": "markdown",
   "metadata": {
    "id": "sEb1Zv4Q8jXJ"
   },
   "source": [
    "Po svemu sudeći, vrednosti 200 i 201 su greške i treba ih nekako zameniti pre početka analize. Za početak, nedozvoljene vrednosti godine i dana treba zameniti sa `NaN` kako bi bilo jasnije šta predstavljaju, a kasnije i temperaturu izanalizirati i srediti."
   ]
  },
  {
   "cell_type": "code",
   "execution_count": 11,
   "metadata": {
    "id": "YWUyzbH68jXK"
   },
   "outputs": [],
   "source": [
    "df['Day'] = df['Day'].replace(0., np.nan)\n",
    "df['Year'] = df['Year'].replace(200., np.nan)\n",
    "df['Year'] = df['Year'].replace(201., np.nan)"
   ]
  },
  {
   "cell_type": "markdown",
   "metadata": {
    "cellView": "form",
    "id": "dWpQJfhzVQ4R",
    "outputId": "35d7755f-013b-4552-aafb-931f3e7671d8"
   },
   "source": [
    "Utvrditi koliko je nedostajućih vrednosti u svakoj od varijabli i rešiti problem. Kog su tipa  nedostajući podaci u ovom skupu? Da li je interpolacija pomoću funkcije `fillna` odgovarajuća metoda ili je bolji pristup brisanje? "
   ]
  },
  {
   "cell_type": "code",
   "execution_count": 12,
   "metadata": {
    "colab": {
     "base_uri": "https://localhost:8080/",
     "height": 50
    },
    "id": "NMdduCq_8jXt",
    "outputId": "45c78013-6a51-44ca-cea3-c3d95f237799"
   },
   "outputs": [
    {
     "name": "stdout",
     "output_type": "stream",
     "text": [
      "Day: broj uzoraka: 8 tj. 0.000275261524253809 %\n",
      "Year: broj uzoraka: 440 tj. 0.015139383833959495 %\n"
     ]
    }
   ],
   "source": [
    "print('Day: broj uzoraka:', df['Day'].isna().sum(), 'tj.', df['Day'].isna().sum()/len(df)*100, '%')\n",
    "print('Year: broj uzoraka:', df['Year'].isna().sum(), 'tj.', df['Year'].isna().sum()/len(df)*100, '%')"
   ]
  },
  {
   "cell_type": "markdown",
   "metadata": {
    "id": "s7AUJBwW8jX1"
   },
   "source": [
    "Kako za dan i godinu vrlo mali broj uzoraka nedostaje (ispod 1%), ovi uzorci se mogu obrisati. Za dopunu podataka bi bilo potrebno proveriti kada dolazi do nedostajućih vrednosti: npr. da li u bazi dani idu redom, pa se nedostajuća vrednost može popuniti na osnovu prethodne i naredne vrednosti. Kada je obeležje godine u pitanju, može se primeniti sličan pristup. Zarad jednostavnosti, u ovoj vežbi će se obrisati uzorci tj. redovi gde nisu poznate vrednosti za dan ili godinu. "
   ]
  },
  {
   "cell_type": "code",
   "execution_count": 13,
   "metadata": {
    "id": "xLrIHJEUoH3-"
   },
   "outputs": [],
   "source": [
    "# brisanje\n",
    "df.dropna(inplace = True, axis=0)\n",
    "\n",
    "# zamena medijanom bi se radila na sledeći način:\n",
    "#df['Day'].fillna(df['Day'].median(), inplace = True)\n",
    "#df['Year'].fillna(df['Year'].median(), inplace = True)"
   ]
  },
  {
   "cell_type": "markdown",
   "metadata": {
    "id": "prWC9pIp8jX7"
   },
   "source": [
    "Sledeće treba odrediti koliko je nedostajućih vrednosti za prosečnu temperaturu po gradu. Prvo se može proveriti koliko je često da temperatura bude ispod -60, i tim redovima dodeliti `NaN` za vrednost temperature. "
   ]
  },
  {
   "cell_type": "code",
   "execution_count": 14,
   "metadata": {
    "colab": {
     "base_uri": "https://localhost:8080/",
     "height": 33
    },
    "id": "bmJTheYRoXP8",
    "outputId": "59626e21-7871-4781-f7c7-7486a2b9c485"
   },
   "outputs": [
    {
     "name": "stdout",
     "output_type": "stream",
     "text": [
      "AvgTemperature: broj uzoraka: 79224 tj. 2.726335129576971 %\n"
     ]
    }
   ],
   "source": [
    "df.loc[df['AvgTemperature'] < -60,'AvgTemperature'] = np.nan\n",
    "print('AvgTemperature: broj uzoraka:', df['AvgTemperature'].isna().sum(), 'tj.', df['AvgTemperature'].isna().sum()/len(df)*100, '%')"
   ]
  },
  {
   "cell_type": "markdown",
   "metadata": {
    "id": "76UmfWU__70v"
   },
   "source": [
    "Gradovi kojima nedostaje više od 10 % podataka se mogu ignorisati tj. izbrisati iz baze, a za ostale ćemo dopuniti vrednosti propagirajući poslednju validnu vrednost do naredne validne vrednosti. Napraviti listu svih gradova koje treba obrisati."
   ]
  },
  {
   "cell_type": "code",
   "execution_count": 15,
   "metadata": {
    "colab": {
     "base_uri": "https://localhost:8080/",
     "height": 53
    },
    "id": "1ErOLQ9A8jX8",
    "outputId": "29d7bb29-0b06-4095-e6b9-5c9a18f5e180"
   },
   "outputs": [
    {
     "name": "stdout",
     "output_type": "stream",
     "text": [
      "['Bujumbura', 'Addis Ababa', 'Banjul', 'Conakry', 'Bissau', 'Nairobi', 'Lilongwe', 'Lagos', 'Freetown', 'Kampala', 'Dhaka', 'Jakarta', 'Katmandu', 'Dusanbe', 'Tirana', 'Nicosia', 'Bonn', 'Frankfurt', 'Hamburg', 'Muscat', 'Guadalajara', 'Georgetown', 'Port au Prince', 'Paramaribo', 'San Juan Puerto Rico']\n"
     ]
    }
   ],
   "source": [
    "gb = df.groupby(by='City').count() # broji validne vrednosti po obeležju za svaki grad (samo za AvgTemperature postoje NaN)\n",
    "del_city = []\n",
    "for i in df['City'].unique():\n",
    "    if gb.loc[i, 'AvgTemperature']/gb.loc[i,'Day'] < 0.9:\n",
    "        del_city.append(i)\n",
    "print(del_city)"
   ]
  },
  {
   "cell_type": "code",
   "execution_count": 16,
   "metadata": {
    "colab": {
     "base_uri": "https://localhost:8080/",
     "height": 82
    },
    "id": "NUEzvQB28jYR",
    "outputId": "fe7acf7b-24ab-48fe-ea92-a570f4d3f862"
   },
   "outputs": [
    {
     "name": "stdout",
     "output_type": "stream",
     "text": [
      "Broj uzoraka i obelezja pre brisanja:  (2905879, 7)\n",
      "Broj jedinstvenih gradova pre brisanja:  321\n",
      "Broj uzoraka i obelezja posle brisanja:  (2716826, 7)\n",
      "Broj jedinstvenih gradova posle brisanja:  296\n"
     ]
    }
   ],
   "source": [
    "print('Broj uzoraka i obelezja pre brisanja: ', df.shape)\n",
    "print('Broj jedinstvenih gradova pre brisanja: ', len(df['City'].unique()))\n",
    "df = df[~df['City'].isin(del_city)]\n",
    "print('Broj uzoraka i obelezja posle brisanja: ', df.shape)\n",
    "print('Broj jedinstvenih gradova posle brisanja: ', len(df['City'].unique()))"
   ]
  },
  {
   "cell_type": "markdown",
   "metadata": {
    "id": "bYyTGdv_8jYs"
   },
   "source": [
    "Ostalo je da se uradi dopuna preostalih nedostajućih vrednosti ponavljanjem poslednje prethodne validne."
   ]
  },
  {
   "cell_type": "code",
   "execution_count": 17,
   "metadata": {
    "colab": {
     "base_uri": "https://localhost:8080/",
     "height": 277
    },
    "id": "5WJgIwrB8jYu",
    "outputId": "62c26335-d590-4f0d-a387-5f068f15d58a"
   },
   "outputs": [
    {
     "name": "stdout",
     "output_type": "stream",
     "text": [
      "Region                0\n",
      "Country               0\n",
      "City                  0\n",
      "Month                 0\n",
      "Day                   0\n",
      "Year                  0\n",
      "AvgTemperature    22884\n",
      "dtype: int64\n",
      "Region            0\n",
      "Country           0\n",
      "City              0\n",
      "Month             0\n",
      "Day               0\n",
      "Year              0\n",
      "AvgTemperature    0\n",
      "dtype: int64\n"
     ]
    }
   ],
   "source": [
    "print(df.isnull().sum())\n",
    "df['AvgTemperature'].fillna(method='ffill', inplace=True)\n",
    "print(df.isnull().sum())"
   ]
  },
  {
   "cell_type": "markdown",
   "metadata": {
    "id": "FQk9k6jZcXVr"
   },
   "source": [
    "Prikazati *boxplot* dijagrame i histograme za prosečnu godišnju temperaturu po regionu korišćenjem `boxplot` i `hist` iz biblioteke `Matplotlib`."
   ]
  },
  {
   "cell_type": "code",
   "execution_count": 18,
   "metadata": {
    "colab": {
     "base_uri": "https://localhost:8080/",
     "height": 220
    },
    "id": "1W9C1cpy8jZb",
    "outputId": "174b20dd-9132-4a73-ddf3-6804548c1a98"
   },
   "outputs": [
    {
     "data": {
      "text/html": [
       "<div>\n",
       "<style scoped>\n",
       "    .dataframe tbody tr th:only-of-type {\n",
       "        vertical-align: middle;\n",
       "    }\n",
       "\n",
       "    .dataframe tbody tr th {\n",
       "        vertical-align: top;\n",
       "    }\n",
       "\n",
       "    .dataframe thead th {\n",
       "        text-align: right;\n",
       "    }\n",
       "</style>\n",
       "<table border=\"1\" class=\"dataframe\">\n",
       "  <thead>\n",
       "    <tr style=\"text-align: right;\">\n",
       "      <th></th>\n",
       "      <th>Country</th>\n",
       "      <th>City</th>\n",
       "      <th>Month</th>\n",
       "      <th>Day</th>\n",
       "      <th>Year</th>\n",
       "      <th>AvgTemperature</th>\n",
       "    </tr>\n",
       "    <tr>\n",
       "      <th>Region</th>\n",
       "      <th></th>\n",
       "      <th></th>\n",
       "      <th></th>\n",
       "      <th></th>\n",
       "      <th></th>\n",
       "      <th></th>\n",
       "    </tr>\n",
       "  </thead>\n",
       "  <tbody>\n",
       "    <tr>\n",
       "      <th>Africa</th>\n",
       "      <td>Algeria</td>\n",
       "      <td>Algiers</td>\n",
       "      <td>1</td>\n",
       "      <td>1.00</td>\n",
       "      <td>1995.00</td>\n",
       "      <td>17.89</td>\n",
       "    </tr>\n",
       "    <tr>\n",
       "      <th>Africa</th>\n",
       "      <td>Algeria</td>\n",
       "      <td>Algiers</td>\n",
       "      <td>1</td>\n",
       "      <td>2.00</td>\n",
       "      <td>1995.00</td>\n",
       "      <td>9.67</td>\n",
       "    </tr>\n",
       "    <tr>\n",
       "      <th>Africa</th>\n",
       "      <td>Algeria</td>\n",
       "      <td>Algiers</td>\n",
       "      <td>1</td>\n",
       "      <td>3.00</td>\n",
       "      <td>1995.00</td>\n",
       "      <td>9.33</td>\n",
       "    </tr>\n",
       "    <tr>\n",
       "      <th>Africa</th>\n",
       "      <td>Algeria</td>\n",
       "      <td>Algiers</td>\n",
       "      <td>1</td>\n",
       "      <td>4.00</td>\n",
       "      <td>1995.00</td>\n",
       "      <td>8.00</td>\n",
       "    </tr>\n",
       "    <tr>\n",
       "      <th>Africa</th>\n",
       "      <td>Algeria</td>\n",
       "      <td>Algiers</td>\n",
       "      <td>1</td>\n",
       "      <td>5.00</td>\n",
       "      <td>1995.00</td>\n",
       "      <td>8.83</td>\n",
       "    </tr>\n",
       "  </tbody>\n",
       "</table>\n",
       "</div>"
      ],
      "text/plain": [
       "        Country     City  Month  Day    Year  AvgTemperature\n",
       "Region                                                      \n",
       "Africa  Algeria  Algiers      1 1.00 1995.00           17.89\n",
       "Africa  Algeria  Algiers      1 2.00 1995.00            9.67\n",
       "Africa  Algeria  Algiers      1 3.00 1995.00            9.33\n",
       "Africa  Algeria  Algiers      1 4.00 1995.00            8.00\n",
       "Africa  Algeria  Algiers      1 5.00 1995.00            8.83"
      ]
     },
     "execution_count": 18,
     "metadata": {},
     "output_type": "execute_result"
    }
   ],
   "source": [
    "# postaviti region za indeks zbog lakšeg pretraživanja pomoću dataframe.loc[] \n",
    "df_region = df.set_index('Region')\n",
    "df_region.head()"
   ]
  },
  {
   "cell_type": "code",
   "execution_count": 19,
   "metadata": {
    "colab": {
     "base_uri": "https://localhost:8080/",
     "height": 541
    },
    "id": "Lma-shxkcoyJ",
    "outputId": "0d344a75-3a5b-4a83-db1b-d064044bf6cc"
   },
   "outputs": [
    {
     "data": {
      "image/png": "[encoded data removed]",
      "text/plain": [
       "<Figure size 432x288 with 1 Axes>"
      ]
     },
     "metadata": {
      "needs_background": "light"
     },
     "output_type": "display_data"
    },
    {
     "data": {
      "image/png": "[encoded data removed]",
      "text/plain": [
       "<Figure size 432x288 with 1 Axes>"
      ]
     },
     "metadata": {
      "needs_background": "light"
     },
     "output_type": "display_data"
    }
   ],
   "source": [
    "# boxplot\n",
    "\n",
    "plt.boxplot(df_region.loc['Europe','AvgTemperature']) \n",
    "plt.ylabel(u'Prosečna temperatura (℃)')\n",
    "plt.xlabel('Evropa')\n",
    "plt.grid()\n",
    "\n",
    "# prikazati uporedo Evropu i Severnu Ameriku\n",
    "plt.figure()\n",
    "plt.boxplot([df_region.loc['Europe','AvgTemperature'], df_region.loc['North America','AvgTemperature']]) \n",
    "plt.ylabel(u'Prosečna temperatura (℃)')\n",
    "plt.xlabel('Region')\n",
    "plt.xticks([1, 2], [\"Evropa\", \"Sev. Amerika\"]);\n",
    "plt.grid()\n",
    "\n",
    "# bonus: uporediti prosečne temperature po mesecima "
   ]
  },
  {
   "cell_type": "markdown",
   "metadata": {
    "id": "238KNEEK0ZxZ"
   },
   "source": [
    "Prikazati raspodelu temperatura u Evropi i Severnoj Americi pomoću histograma. (Iskoristiti opciju za transparentnost histograma `alpha` kako bi se oba histograma mogla prikazati na istom grafiku.)"
   ]
  },
  {
   "cell_type": "code",
   "execution_count": 20,
   "metadata": {
    "colab": {
     "base_uri": "https://localhost:8080/",
     "height": 278
    },
    "id": "I1J6ZDI-UEpK",
    "outputId": "cd1d4827-2cc7-4308-cb0c-caac30d15b16"
   },
   "outputs": [
    {
     "data": {
      "image/png": "[encoded data removed]",
      "text/plain": [
       "<Figure size 432x288 with 1 Axes>"
      ]
     },
     "metadata": {
      "needs_background": "light"
     },
     "output_type": "display_data"
    }
   ],
   "source": [
    "# histogram\n",
    "plt.hist(df_region.loc['Europe','AvgTemperature'], density=True, alpha=0.5, label = 'Evropa');\n",
    "plt.hist(df_region.loc['North America','AvgTemperature'], density=True, alpha=0.5, label='Sev.Amerika');\n",
    "\n",
    "plt.xlabel('Temperatura (℃)');\n",
    "plt.ylabel('Verovatnoća');\n",
    "plt.legend();"
   ]
  },
  {
   "cell_type": "markdown",
   "metadata": {
    "id": "cyCX2ij17kEO"
   },
   "source": [
    "Kako se odnose raspodela temperatura 1995. i 2005. godine? Prikazati pomoću histograma. (Iskoristiti opciju za transparentnost histograma alpha kako bi se oba histograma mogla prikazati na istom grafiku.) "
   ]
  },
  {
   "cell_type": "code",
   "execution_count": 21,
   "metadata": {
    "colab": {
     "base_uri": "https://localhost:8080/",
     "height": 33
    },
    "id": "sMYKy6N75Jb3",
    "outputId": "26ea16f3-d395-4952-f73d-f7165cbdca72"
   },
   "outputs": [
    {
     "data": {
      "text/html": [
       "<div>\n",
       "<style scoped>\n",
       "    .dataframe tbody tr th:only-of-type {\n",
       "        vertical-align: middle;\n",
       "    }\n",
       "\n",
       "    .dataframe tbody tr th {\n",
       "        vertical-align: top;\n",
       "    }\n",
       "\n",
       "    .dataframe thead th {\n",
       "        text-align: right;\n",
       "    }\n",
       "</style>\n",
       "<table border=\"1\" class=\"dataframe\">\n",
       "  <thead>\n",
       "    <tr style=\"text-align: right;\">\n",
       "      <th></th>\n",
       "      <th>Region</th>\n",
       "      <th>Country</th>\n",
       "      <th>City</th>\n",
       "      <th>Month</th>\n",
       "      <th>Day</th>\n",
       "      <th>AvgTemperature</th>\n",
       "    </tr>\n",
       "    <tr>\n",
       "      <th>Year</th>\n",
       "      <th></th>\n",
       "      <th></th>\n",
       "      <th></th>\n",
       "      <th></th>\n",
       "      <th></th>\n",
       "      <th></th>\n",
       "    </tr>\n",
       "  </thead>\n",
       "  <tbody>\n",
       "    <tr>\n",
       "      <th>1995.00</th>\n",
       "      <td>Africa</td>\n",
       "      <td>Algeria</td>\n",
       "      <td>Algiers</td>\n",
       "      <td>1</td>\n",
       "      <td>1.00</td>\n",
       "      <td>17.89</td>\n",
       "    </tr>\n",
       "    <tr>\n",
       "      <th>1995.00</th>\n",
       "      <td>Africa</td>\n",
       "      <td>Algeria</td>\n",
       "      <td>Algiers</td>\n",
       "      <td>1</td>\n",
       "      <td>2.00</td>\n",
       "      <td>9.67</td>\n",
       "    </tr>\n",
       "    <tr>\n",
       "      <th>1995.00</th>\n",
       "      <td>Africa</td>\n",
       "      <td>Algeria</td>\n",
       "      <td>Algiers</td>\n",
       "      <td>1</td>\n",
       "      <td>3.00</td>\n",
       "      <td>9.33</td>\n",
       "    </tr>\n",
       "    <tr>\n",
       "      <th>1995.00</th>\n",
       "      <td>Africa</td>\n",
       "      <td>Algeria</td>\n",
       "      <td>Algiers</td>\n",
       "      <td>1</td>\n",
       "      <td>4.00</td>\n",
       "      <td>8.00</td>\n",
       "    </tr>\n",
       "    <tr>\n",
       "      <th>1995.00</th>\n",
       "      <td>Africa</td>\n",
       "      <td>Algeria</td>\n",
       "      <td>Algiers</td>\n",
       "      <td>1</td>\n",
       "      <td>5.00</td>\n",
       "      <td>8.83</td>\n",
       "    </tr>\n",
       "  </tbody>\n",
       "</table>\n",
       "</div>"
      ],
      "text/plain": [
       "         Region  Country     City  Month  Day  AvgTemperature\n",
       "Year                                                         \n",
       "1995.00  Africa  Algeria  Algiers      1 1.00           17.89\n",
       "1995.00  Africa  Algeria  Algiers      1 2.00            9.67\n",
       "1995.00  Africa  Algeria  Algiers      1 3.00            9.33\n",
       "1995.00  Africa  Algeria  Algiers      1 4.00            8.00\n",
       "1995.00  Africa  Algeria  Algiers      1 5.00            8.83"
      ]
     },
     "execution_count": 21,
     "metadata": {},
     "output_type": "execute_result"
    }
   ],
   "source": [
    "# indeksirati po godini\n",
    "df_year = df.set_index('Year')\n",
    "df_year.head()"
   ]
  },
  {
   "cell_type": "code",
   "execution_count": 22,
   "metadata": {
    "colab": {
     "base_uri": "https://localhost:8080/",
     "height": 295
    },
    "id": "L04ZzWt95t37",
    "outputId": "08be532b-50ff-4bbd-ce3b-ea4b90b09104"
   },
   "outputs": [
    {
     "data": {
      "image/png": "[encoded data removed]",
      "text/plain": [
       "<Figure size 432x288 with 1 Axes>"
      ]
     },
     "metadata": {
      "needs_background": "light"
     },
     "output_type": "display_data"
    }
   ],
   "source": [
    "# histogram\n",
    "plt.hist(df_year.loc[1995,'AvgTemperature'], bins=100, density=True, alpha=0.3, label='1995');\n",
    "plt.hist(df_year.loc[2005,'AvgTemperature'], bins=100, density=True, alpha=0.3, label='2005');\n",
    "\n",
    "plt.xlabel('Temperatura (℃)');\n",
    "plt.ylabel('Verovatnoća');\n",
    "plt.legend(loc='upper left');"
   ]
  },
  {
   "cell_type": "markdown",
   "metadata": {
    "id": "pc_E5tLIsAFN"
   },
   "source": [
    "Izračunati koeficijent asimetrije i koeficijent spljoštenosti raspodele temperature za Evropu. Na osnovu ovih vrednosti, kakvu raspodelu možemo očekivati? "
   ]
  },
  {
   "cell_type": "code",
   "execution_count": 23,
   "metadata": {
    "colab": {
     "base_uri": "https://localhost:8080/",
     "height": 50
    },
    "id": "aqA09lvK9BLd",
    "outputId": "0cd792f3-867c-4b9a-b147-194ad87cb36a"
   },
   "outputs": [
    {
     "name": "stdout",
     "output_type": "stream",
     "text": [
      "koef.asimetrije:  -0.24\n",
      "koef.spljoštenosti:  -0.23\n"
     ]
    }
   ],
   "source": [
    "from scipy.stats import kurtosis\n",
    "from scipy.stats import skew\n",
    "\n",
    "print('koef.asimetrije:  %.2f' % skew(df_region.loc['Europe','AvgTemperature']))\n",
    "print('koef.spljoštenosti:  %.2f' % kurtosis(df_region.loc['Europe','AvgTemperature']))"
   ]
  },
  {
   "cell_type": "markdown",
   "metadata": {
    "id": "F4eWKJiJlcj9"
   },
   "source": [
    "Proveriti pretpostavke na osnovu koeficijenata asimetrije i spljoštenosti. Da li raspodela godišnjih temperatura u Evropi u periodu od 1995. do 2020. godine približno prati normalnu raspodelu? "
   ]
  },
  {
   "cell_type": "code",
   "execution_count": 24,
   "metadata": {
    "colab": {
     "base_uri": "https://localhost:8080/",
     "height": 278
    },
    "id": "0NnpN4loo278",
    "outputId": "07f76d18-6e79-4c48-e539-d7be7b27df09"
   },
   "outputs": [
    {
     "data": {
      "image/png": "[encoded data removed]",
      "text/plain": [
       "<Figure size 432x288 with 1 Axes>"
      ]
     },
     "metadata": {
      "needs_background": "light"
     },
     "output_type": "display_data"
    }
   ],
   "source": [
    "temp_europe = df_region.loc['Europe','AvgTemperature']\n",
    "plt.hist(temp_europe, bins=50, density=True);\n",
    "plt.xlabel('Temperatura (℃)');\n",
    "plt.ylabel('Verovatnoća');"
   ]
  },
  {
   "cell_type": "markdown",
   "metadata": {
    "id": "dWPAd7U18jag"
   },
   "source": [
    "Bolji uvid u promene temperature po godinama mogu ponuditi prosečne mesečne temperature. Izračunati ih za svaki region koristeći funkciju 'groupby'."
   ]
  },
  {
   "cell_type": "code",
   "execution_count": 25,
   "metadata": {
    "colab": {
     "base_uri": "https://localhost:8080/",
     "height": 420
    },
    "id": "EUOVfzJY8jai",
    "outputId": "30708228-03c1-44a8-eef2-29265eccafce"
   },
   "outputs": [
    {
     "data": {
      "text/html": [
       "<div>\n",
       "<style scoped>\n",
       "    .dataframe tbody tr th:only-of-type {\n",
       "        vertical-align: middle;\n",
       "    }\n",
       "\n",
       "    .dataframe tbody tr th {\n",
       "        vertical-align: top;\n",
       "    }\n",
       "\n",
       "    .dataframe thead th {\n",
       "        text-align: right;\n",
       "    }\n",
       "</style>\n",
       "<table border=\"1\" class=\"dataframe\">\n",
       "  <thead>\n",
       "    <tr style=\"text-align: right;\">\n",
       "      <th></th>\n",
       "      <th></th>\n",
       "      <th>Day</th>\n",
       "      <th>Year</th>\n",
       "      <th>AvgTemperature</th>\n",
       "    </tr>\n",
       "    <tr>\n",
       "      <th>Region</th>\n",
       "      <th>Month</th>\n",
       "      <th></th>\n",
       "      <th></th>\n",
       "      <th></th>\n",
       "    </tr>\n",
       "  </thead>\n",
       "  <tbody>\n",
       "    <tr>\n",
       "      <th rowspan=\"12\" valign=\"top\">Africa</th>\n",
       "      <th>1</th>\n",
       "      <td>15.99</td>\n",
       "      <td>2007.31</td>\n",
       "      <td>22.20</td>\n",
       "    </tr>\n",
       "    <tr>\n",
       "      <th>2</th>\n",
       "      <td>14.64</td>\n",
       "      <td>2007.30</td>\n",
       "      <td>22.89</td>\n",
       "    </tr>\n",
       "    <tr>\n",
       "      <th>3</th>\n",
       "      <td>16.00</td>\n",
       "      <td>2007.29</td>\n",
       "      <td>23.47</td>\n",
       "    </tr>\n",
       "    <tr>\n",
       "      <th>4</th>\n",
       "      <td>15.50</td>\n",
       "      <td>2007.29</td>\n",
       "      <td>23.60</td>\n",
       "    </tr>\n",
       "    <tr>\n",
       "      <th>5</th>\n",
       "      <td>15.86</td>\n",
       "      <td>2007.03</td>\n",
       "      <td>23.69</td>\n",
       "    </tr>\n",
       "    <tr>\n",
       "      <th>6</th>\n",
       "      <td>15.50</td>\n",
       "      <td>2006.83</td>\n",
       "      <td>23.41</td>\n",
       "    </tr>\n",
       "    <tr>\n",
       "      <th>7</th>\n",
       "      <td>16.00</td>\n",
       "      <td>2006.83</td>\n",
       "      <td>23.36</td>\n",
       "    </tr>\n",
       "    <tr>\n",
       "      <th>8</th>\n",
       "      <td>16.00</td>\n",
       "      <td>2006.83</td>\n",
       "      <td>23.82</td>\n",
       "    </tr>\n",
       "    <tr>\n",
       "      <th>9</th>\n",
       "      <td>15.50</td>\n",
       "      <td>2006.83</td>\n",
       "      <td>24.32</td>\n",
       "    </tr>\n",
       "    <tr>\n",
       "      <th>10</th>\n",
       "      <td>16.00</td>\n",
       "      <td>2006.83</td>\n",
       "      <td>24.50</td>\n",
       "    </tr>\n",
       "    <tr>\n",
       "      <th>11</th>\n",
       "      <td>15.50</td>\n",
       "      <td>2006.83</td>\n",
       "      <td>23.63</td>\n",
       "    </tr>\n",
       "    <tr>\n",
       "      <th>12</th>\n",
       "      <td>16.02</td>\n",
       "      <td>2006.84</td>\n",
       "      <td>22.65</td>\n",
       "    </tr>\n",
       "    <tr>\n",
       "      <th rowspan=\"12\" valign=\"top\">Asia</th>\n",
       "      <th>1</th>\n",
       "      <td>16.00</td>\n",
       "      <td>2007.45</td>\n",
       "      <td>10.40</td>\n",
       "    </tr>\n",
       "    <tr>\n",
       "      <th>2</th>\n",
       "      <td>14.64</td>\n",
       "      <td>2007.45</td>\n",
       "      <td>12.44</td>\n",
       "    </tr>\n",
       "    <tr>\n",
       "      <th>3</th>\n",
       "      <td>16.00</td>\n",
       "      <td>2007.45</td>\n",
       "      <td>16.54</td>\n",
       "    </tr>\n",
       "    <tr>\n",
       "      <th>4</th>\n",
       "      <td>15.50</td>\n",
       "      <td>2007.45</td>\n",
       "      <td>20.94</td>\n",
       "    </tr>\n",
       "    <tr>\n",
       "      <th>5</th>\n",
       "      <td>15.86</td>\n",
       "      <td>2007.16</td>\n",
       "      <td>24.35</td>\n",
       "    </tr>\n",
       "    <tr>\n",
       "      <th>6</th>\n",
       "      <td>15.50</td>\n",
       "      <td>2006.95</td>\n",
       "      <td>26.50</td>\n",
       "    </tr>\n",
       "    <tr>\n",
       "      <th>7</th>\n",
       "      <td>16.00</td>\n",
       "      <td>2006.95</td>\n",
       "      <td>27.54</td>\n",
       "    </tr>\n",
       "    <tr>\n",
       "      <th>8</th>\n",
       "      <td>16.00</td>\n",
       "      <td>2006.95</td>\n",
       "      <td>27.13</td>\n",
       "    </tr>\n",
       "    <tr>\n",
       "      <th>9</th>\n",
       "      <td>15.50</td>\n",
       "      <td>2006.95</td>\n",
       "      <td>24.70</td>\n",
       "    </tr>\n",
       "    <tr>\n",
       "      <th>10</th>\n",
       "      <td>16.00</td>\n",
       "      <td>2006.95</td>\n",
       "      <td>20.92</td>\n",
       "    </tr>\n",
       "    <tr>\n",
       "      <th>11</th>\n",
       "      <td>15.50</td>\n",
       "      <td>2006.95</td>\n",
       "      <td>16.14</td>\n",
       "    </tr>\n",
       "    <tr>\n",
       "      <th>12</th>\n",
       "      <td>16.02</td>\n",
       "      <td>2006.95</td>\n",
       "      <td>11.76</td>\n",
       "    </tr>\n",
       "    <tr>\n",
       "      <th rowspan=\"6\" valign=\"top\">Australia/South Pacific</th>\n",
       "      <th>1</th>\n",
       "      <td>16.00</td>\n",
       "      <td>2007.50</td>\n",
       "      <td>22.34</td>\n",
       "    </tr>\n",
       "    <tr>\n",
       "      <th>2</th>\n",
       "      <td>14.64</td>\n",
       "      <td>2007.50</td>\n",
       "      <td>22.16</td>\n",
       "    </tr>\n",
       "    <tr>\n",
       "      <th>3</th>\n",
       "      <td>16.00</td>\n",
       "      <td>2007.50</td>\n",
       "      <td>20.46</td>\n",
       "    </tr>\n",
       "    <tr>\n",
       "      <th>4</th>\n",
       "      <td>15.50</td>\n",
       "      <td>2007.50</td>\n",
       "      <td>17.38</td>\n",
       "    </tr>\n",
       "    <tr>\n",
       "      <th>5</th>\n",
       "      <td>15.85</td>\n",
       "      <td>2007.21</td>\n",
       "      <td>14.33</td>\n",
       "    </tr>\n",
       "    <tr>\n",
       "      <th>6</th>\n",
       "      <td>15.50</td>\n",
       "      <td>2007.00</td>\n",
       "      <td>12.00</td>\n",
       "    </tr>\n",
       "    <tr>\n",
       "      <th>...</th>\n",
       "      <th>...</th>\n",
       "      <td>...</td>\n",
       "      <td>...</td>\n",
       "      <td>...</td>\n",
       "    </tr>\n",
       "    <tr>\n",
       "      <th rowspan=\"6\" valign=\"top\">Middle East</th>\n",
       "      <th>7</th>\n",
       "      <td>16.00</td>\n",
       "      <td>2006.75</td>\n",
       "      <td>32.07</td>\n",
       "    </tr>\n",
       "    <tr>\n",
       "      <th>8</th>\n",
       "      <td>16.00</td>\n",
       "      <td>2006.75</td>\n",
       "      <td>31.99</td>\n",
       "    </tr>\n",
       "    <tr>\n",
       "      <th>9</th>\n",
       "      <td>15.49</td>\n",
       "      <td>2006.75</td>\n",
       "      <td>29.20</td>\n",
       "    </tr>\n",
       "    <tr>\n",
       "      <th>10</th>\n",
       "      <td>16.00</td>\n",
       "      <td>2006.75</td>\n",
       "      <td>24.98</td>\n",
       "    </tr>\n",
       "    <tr>\n",
       "      <th>11</th>\n",
       "      <td>15.50</td>\n",
       "      <td>2006.75</td>\n",
       "      <td>19.25</td>\n",
       "    </tr>\n",
       "    <tr>\n",
       "      <th>12</th>\n",
       "      <td>16.02</td>\n",
       "      <td>2006.76</td>\n",
       "      <td>14.74</td>\n",
       "    </tr>\n",
       "    <tr>\n",
       "      <th rowspan=\"12\" valign=\"top\">North America</th>\n",
       "      <th>1</th>\n",
       "      <td>16.00</td>\n",
       "      <td>2007.27</td>\n",
       "      <td>1.81</td>\n",
       "    </tr>\n",
       "    <tr>\n",
       "      <th>2</th>\n",
       "      <td>14.64</td>\n",
       "      <td>2007.28</td>\n",
       "      <td>3.49</td>\n",
       "    </tr>\n",
       "    <tr>\n",
       "      <th>3</th>\n",
       "      <td>16.00</td>\n",
       "      <td>2007.27</td>\n",
       "      <td>7.75</td>\n",
       "    </tr>\n",
       "    <tr>\n",
       "      <th>4</th>\n",
       "      <td>15.50</td>\n",
       "      <td>2007.27</td>\n",
       "      <td>12.82</td>\n",
       "    </tr>\n",
       "    <tr>\n",
       "      <th>5</th>\n",
       "      <td>15.86</td>\n",
       "      <td>2007.00</td>\n",
       "      <td>17.87</td>\n",
       "    </tr>\n",
       "    <tr>\n",
       "      <th>6</th>\n",
       "      <td>15.50</td>\n",
       "      <td>2006.79</td>\n",
       "      <td>22.30</td>\n",
       "    </tr>\n",
       "    <tr>\n",
       "      <th>7</th>\n",
       "      <td>16.00</td>\n",
       "      <td>2006.78</td>\n",
       "      <td>24.59</td>\n",
       "    </tr>\n",
       "    <tr>\n",
       "      <th>8</th>\n",
       "      <td>16.00</td>\n",
       "      <td>2006.78</td>\n",
       "      <td>23.89</td>\n",
       "    </tr>\n",
       "    <tr>\n",
       "      <th>9</th>\n",
       "      <td>15.50</td>\n",
       "      <td>2006.78</td>\n",
       "      <td>20.32</td>\n",
       "    </tr>\n",
       "    <tr>\n",
       "      <th>10</th>\n",
       "      <td>16.00</td>\n",
       "      <td>2006.78</td>\n",
       "      <td>14.21</td>\n",
       "    </tr>\n",
       "    <tr>\n",
       "      <th>11</th>\n",
       "      <td>15.50</td>\n",
       "      <td>2006.78</td>\n",
       "      <td>8.06</td>\n",
       "    </tr>\n",
       "    <tr>\n",
       "      <th>12</th>\n",
       "      <td>16.00</td>\n",
       "      <td>2006.78</td>\n",
       "      <td>3.35</td>\n",
       "    </tr>\n",
       "    <tr>\n",
       "      <th rowspan=\"12\" valign=\"top\">South/Central America &amp; Carribean</th>\n",
       "      <th>1</th>\n",
       "      <td>16.00</td>\n",
       "      <td>2007.11</td>\n",
       "      <td>22.02</td>\n",
       "    </tr>\n",
       "    <tr>\n",
       "      <th>2</th>\n",
       "      <td>14.64</td>\n",
       "      <td>2007.11</td>\n",
       "      <td>22.29</td>\n",
       "    </tr>\n",
       "    <tr>\n",
       "      <th>3</th>\n",
       "      <td>16.00</td>\n",
       "      <td>2007.11</td>\n",
       "      <td>22.41</td>\n",
       "    </tr>\n",
       "    <tr>\n",
       "      <th>4</th>\n",
       "      <td>15.49</td>\n",
       "      <td>2007.10</td>\n",
       "      <td>22.43</td>\n",
       "    </tr>\n",
       "    <tr>\n",
       "      <th>5</th>\n",
       "      <td>15.88</td>\n",
       "      <td>2006.83</td>\n",
       "      <td>21.83</td>\n",
       "    </tr>\n",
       "    <tr>\n",
       "      <th>6</th>\n",
       "      <td>15.50</td>\n",
       "      <td>2006.65</td>\n",
       "      <td>21.35</td>\n",
       "    </tr>\n",
       "    <tr>\n",
       "      <th>7</th>\n",
       "      <td>16.00</td>\n",
       "      <td>2006.65</td>\n",
       "      <td>21.24</td>\n",
       "    </tr>\n",
       "    <tr>\n",
       "      <th>8</th>\n",
       "      <td>15.99</td>\n",
       "      <td>2006.65</td>\n",
       "      <td>21.64</td>\n",
       "    </tr>\n",
       "    <tr>\n",
       "      <th>9</th>\n",
       "      <td>15.50</td>\n",
       "      <td>2006.64</td>\n",
       "      <td>21.85</td>\n",
       "    </tr>\n",
       "    <tr>\n",
       "      <th>10</th>\n",
       "      <td>16.00</td>\n",
       "      <td>2006.64</td>\n",
       "      <td>21.95</td>\n",
       "    </tr>\n",
       "    <tr>\n",
       "      <th>11</th>\n",
       "      <td>15.49</td>\n",
       "      <td>2006.63</td>\n",
       "      <td>21.77</td>\n",
       "    </tr>\n",
       "    <tr>\n",
       "      <th>12</th>\n",
       "      <td>16.01</td>\n",
       "      <td>2006.63</td>\n",
       "      <td>21.96</td>\n",
       "    </tr>\n",
       "  </tbody>\n",
       "</table>\n",
       "<p>84 rows × 3 columns</p>\n",
       "</div>"
      ],
      "text/plain": [
       "                                          Day    Year  AvgTemperature\n",
       "Region                            Month                              \n",
       "Africa                            1     15.99 2007.31           22.20\n",
       "                                  2     14.64 2007.30           22.89\n",
       "                                  3     16.00 2007.29           23.47\n",
       "                                  4     15.50 2007.29           23.60\n",
       "                                  5     15.86 2007.03           23.69\n",
       "                                  6     15.50 2006.83           23.41\n",
       "                                  7     16.00 2006.83           23.36\n",
       "                                  8     16.00 2006.83           23.82\n",
       "                                  9     15.50 2006.83           24.32\n",
       "                                  10    16.00 2006.83           24.50\n",
       "                                  11    15.50 2006.83           23.63\n",
       "                                  12    16.02 2006.84           22.65\n",
       "Asia                              1     16.00 2007.45           10.40\n",
       "                                  2     14.64 2007.45           12.44\n",
       "                                  3     16.00 2007.45           16.54\n",
       "                                  4     15.50 2007.45           20.94\n",
       "                                  5     15.86 2007.16           24.35\n",
       "                                  6     15.50 2006.95           26.50\n",
       "                                  7     16.00 2006.95           27.54\n",
       "                                  8     16.00 2006.95           27.13\n",
       "                                  9     15.50 2006.95           24.70\n",
       "                                  10    16.00 2006.95           20.92\n",
       "                                  11    15.50 2006.95           16.14\n",
       "                                  12    16.02 2006.95           11.76\n",
       "Australia/South Pacific           1     16.00 2007.50           22.34\n",
       "                                  2     14.64 2007.50           22.16\n",
       "                                  3     16.00 2007.50           20.46\n",
       "                                  4     15.50 2007.50           17.38\n",
       "                                  5     15.85 2007.21           14.33\n",
       "                                  6     15.50 2007.00           12.00\n",
       "...                                       ...     ...             ...\n",
       "Middle East                       7     16.00 2006.75           32.07\n",
       "                                  8     16.00 2006.75           31.99\n",
       "                                  9     15.49 2006.75           29.20\n",
       "                                  10    16.00 2006.75           24.98\n",
       "                                  11    15.50 2006.75           19.25\n",
       "                                  12    16.02 2006.76           14.74\n",
       "North America                     1     16.00 2007.27            1.81\n",
       "                                  2     14.64 2007.28            3.49\n",
       "                                  3     16.00 2007.27            7.75\n",
       "                                  4     15.50 2007.27           12.82\n",
       "                                  5     15.86 2007.00           17.87\n",
       "                                  6     15.50 2006.79           22.30\n",
       "                                  7     16.00 2006.78           24.59\n",
       "                                  8     16.00 2006.78           23.89\n",
       "                                  9     15.50 2006.78           20.32\n",
       "                                  10    16.00 2006.78           14.21\n",
       "                                  11    15.50 2006.78            8.06\n",
       "                                  12    16.00 2006.78            3.35\n",
       "South/Central America & Carribean 1     16.00 2007.11           22.02\n",
       "                                  2     14.64 2007.11           22.29\n",
       "                                  3     16.00 2007.11           22.41\n",
       "                                  4     15.49 2007.10           22.43\n",
       "                                  5     15.88 2006.83           21.83\n",
       "                                  6     15.50 2006.65           21.35\n",
       "                                  7     16.00 2006.65           21.24\n",
       "                                  8     15.99 2006.65           21.64\n",
       "                                  9     15.50 2006.64           21.85\n",
       "                                  10    16.00 2006.64           21.95\n",
       "                                  11    15.49 2006.63           21.77\n",
       "                                  12    16.01 2006.63           21.96\n",
       "\n",
       "[84 rows x 3 columns]"
      ]
     },
     "execution_count": 25,
     "metadata": {},
     "output_type": "execute_result"
    }
   ],
   "source": [
    "gb = df.groupby(by=['Region', 'Month']).mean()\n",
    "gb"
   ]
  },
  {
   "cell_type": "markdown",
   "metadata": {
    "id": "eiAYs_eo8ja6"
   },
   "source": [
    "Kako bi se uporedio odnos prosečne mesečne temperature u Evropi i Aziji (ili nekom drugom regionu), iscrtati linijski grafik i grafik rasipanja. Šta se može zaljučiti iz ovih grafika?"
   ]
  },
  {
   "cell_type": "code",
   "execution_count": 26,
   "metadata": {
    "colab": {
     "base_uri": "https://localhost:8080/",
     "height": 278
    },
    "id": "Wk3yT_nb8jbC",
    "outputId": "012a3aba-f8f0-41f3-d564-b2c1700f4d01"
   },
   "outputs": [
    {
     "data": {
      "image/png": "[encoded data removed]",
      "text/plain": [
       "<Figure size 432x288 with 1 Axes>"
      ]
     },
     "metadata": {
      "needs_background": "light"
     },
     "output_type": "display_data"
    }
   ],
   "source": [
    "gb = df.groupby(by=['Region', 'Month']).mean()\n",
    "T_evropa = gb.loc['Europe']['AvgTemperature']\n",
    "T_azija = gb.loc['Asia']['AvgTemperature']\n",
    "T_afrika = gb.loc['Africa']['AvgTemperature']\n",
    "T_amerika = gb.loc['North America']['AvgTemperature']\n",
    "plt.plot(np.arange(1, 13, 1), T_evropa, 'b', label='Evropa') \n",
    "plt.plot(np.arange(1, 13, 1), T_azija, 'r', label='Azija')\n",
    "plt.ylabel('Prosečna mesečna temperatura (℃)')\n",
    "plt.xlabel('Mesec')\n",
    "plt.legend();"
   ]
  },
  {
   "cell_type": "code",
   "execution_count": 27,
   "metadata": {
    "colab": {
     "base_uri": "https://localhost:8080/",
     "height": 280
    },
    "id": "u6TmWsS48jbL",
    "outputId": "fb92a865-ba5a-450f-f59a-c502162f326e"
   },
   "outputs": [
    {
     "data": {
      "image/png": "[encoded data removed]",
      "text/plain": [
       "<Figure size 432x288 with 1 Axes>"
      ]
     },
     "metadata": {
      "needs_background": "light"
     },
     "output_type": "display_data"
    }
   ],
   "source": [
    "plt.scatter(T_evropa, T_azija)\n",
    "plt.xlabel('Mesečna prosečna temperatura u Evropi (℃)');\n",
    "plt.ylabel('Mesečna prosečna temperatura u Aziji (℃)');"
   ]
  },
  {
   "cell_type": "markdown",
   "metadata": {
    "id": "PdqXPtEt8jbb"
   },
   "source": [
    "Kako se međusobno odnose prosečne mesečne temperatura u različitim regionima? Kolika je korelacija prosečne mesečne temperature u Evropi i Aziji (ili npr. Africi)? "
   ]
  },
  {
   "cell_type": "code",
   "execution_count": 28,
   "metadata": {
    "colab": {
     "base_uri": "https://localhost:8080/",
     "height": 33
    },
    "id": "Ulmu2jl72fYg",
    "outputId": "e4b04207-8b54-4f28-855f-df2cd2a538e3"
   },
   "outputs": [
    {
     "name": "stdout",
     "output_type": "stream",
     "text": [
      "korelacija: 0.989\n"
     ]
    }
   ],
   "source": [
    "df_month = pd.DataFrame()\n",
    "for i in df_region.index.unique():\n",
    "    df_month[i] = gb.loc[i, 'AvgTemperature']\n",
    "c=df_month['Europe'].corr(df_month['Asia'])\n",
    "print(\"korelacija: %.3f\" % c)"
   ]
  },
  {
   "cell_type": "markdown",
   "metadata": {
    "id": "pmzA3okt8jcJ"
   },
   "source": [
    "Izračunati korelaciju između prosečne temperature u Evropi i u svim ostalim regionima."
   ]
  },
  {
   "cell_type": "code",
   "execution_count": 29,
   "metadata": {
    "colab": {
     "base_uri": "https://localhost:8080/",
     "height": 147
    },
    "id": "AVM4o7uQ2tfQ",
    "outputId": "953c1d76-222e-4d1d-d5dc-ab0830c62931"
   },
   "outputs": [
    {
     "name": "stdout",
     "output_type": "stream",
     "text": [
      "Africa                               0.59\n",
      "Asia                                 0.99\n",
      "Australia/South Pacific             -0.99\n",
      "Europe                               1.00\n",
      "Middle East                          0.99\n",
      "North America                        1.00\n",
      "South/Central America & Carribean   -0.71\n",
      "Name: Europe, dtype: float64\n"
     ]
    }
   ],
   "source": [
    "matrica_korelacije = df_month.corr() \n",
    "print(matrica_korelacije['Europe'])"
   ]
  },
  {
   "cell_type": "markdown",
   "metadata": {
    "id": "kLep6lf7qqZf"
   },
   "source": [
    "Iscrtati matricu korelacije pomoću `heatmap` iz biblioteke `Seaborn`."
   ]
  },
  {
   "cell_type": "code",
   "execution_count": 30,
   "metadata": {
    "colab": {
     "base_uri": "https://localhost:8080/",
     "height": 451
    },
    "id": "IgemhdHFqomt",
    "outputId": "c7675eea-085d-459a-dc54-e9134174bb2d"
   },
   "outputs": [
    {
     "data": {
      "text/plain": [
       "<matplotlib.axes._subplots.AxesSubplot at 0x2160018d128>"
      ]
     },
     "execution_count": 30,
     "metadata": {},
     "output_type": "execute_result"
    },
    {
     "data": {
      "image/png": "[encoded data removed]",
      "text/plain": [
       "<Figure size 432x288 with 2 Axes>"
      ]
     },
     "metadata": {
      "needs_background": "light"
     },
     "output_type": "display_data"
    }
   ],
   "source": [
    "import seaborn as sb\n",
    "\n",
    "sb.heatmap(matrica_korelacije, annot=True)"
   ]
  },
  {
   "cell_type": "markdown",
   "metadata": {
    "id": "V0YyvSoFoXQ3"
   },
   "source": [
    "Kako se može objasniti izražena negativna korelacija između Evrope i Australije? Koji regioni su najviše korelisani? "
   ]
  },
  {
   "cell_type": "code",
   "execution_count": null,
   "metadata": {},
   "outputs": [],
   "source": []
  }
 ],
 "metadata": {
  "colab": {
   "collapsed_sections": [],
   "name": "vezbaEDAnew_TN.ipynb",
   "provenance": [],
   "toc_visible": true
  },
  "kernelspec": {
   "display_name": "Python 3",
   "language": "python",
   "name": "python3"
  },
  "language_info": {
   "codemirror_mode": {
    "name": "ipython",
    "version": 3
   },
   "file_extension": ".py",
   "mimetype": "text/x-python",
   "name": "python",
   "nbconvert_exporter": "python",
   "pygments_lexer": "ipython3",
   "version": "3.7.3"
  }
 },
 "nbformat": 4,
 "nbformat_minor": 1
}
