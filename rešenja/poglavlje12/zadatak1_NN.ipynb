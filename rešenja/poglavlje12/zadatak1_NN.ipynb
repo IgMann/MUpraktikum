{
 "cells": [
  {
   "cell_type": "code",
   "execution_count": 249,
   "metadata": {},
   "outputs": [],
   "source": [
    "import numpy as np\n",
    "import pandas as pd\n",
    "import matplotlib.pyplot as plt\n",
    "import sklearn\n",
    "from sklearn.model_selection import train_test_split, StratifiedKFold\n",
    "from sklearn.metrics import confusion_matrix, accuracy_score, precision_score, recall_score, f1_score\n",
    "from sklearn.neural_network import MLPClassifier"
   ]
  },
  {
   "cell_type": "code",
   "execution_count": 250,
   "metadata": {},
   "outputs": [
    {
     "name": "stdout",
     "output_type": "stream",
     "text": [
      "(329, 13)\n",
      "0\n"
     ]
    },
    {
     "data": {
      "text/html": [
       "<div>\n",
       "<style scoped>\n",
       "    .dataframe tbody tr th:only-of-type {\n",
       "        vertical-align: middle;\n",
       "    }\n",
       "\n",
       "    .dataframe tbody tr th {\n",
       "        vertical-align: top;\n",
       "    }\n",
       "\n",
       "    .dataframe thead th {\n",
       "        text-align: right;\n",
       "    }\n",
       "</style>\n",
       "<table border=\"1\" class=\"dataframe\">\n",
       "  <thead>\n",
       "    <tr style=\"text-align: right;\">\n",
       "      <th></th>\n",
       "      <th>language</th>\n",
       "      <th>X1</th>\n",
       "      <th>X2</th>\n",
       "      <th>X3</th>\n",
       "      <th>X4</th>\n",
       "      <th>X5</th>\n",
       "      <th>X6</th>\n",
       "      <th>X7</th>\n",
       "      <th>X8</th>\n",
       "      <th>X9</th>\n",
       "      <th>X10</th>\n",
       "      <th>X11</th>\n",
       "      <th>X12</th>\n",
       "    </tr>\n",
       "  </thead>\n",
       "  <tbody>\n",
       "    <tr>\n",
       "      <th>0</th>\n",
       "      <td>ES</td>\n",
       "      <td>7.071476</td>\n",
       "      <td>-6.512900</td>\n",
       "      <td>7.650800</td>\n",
       "      <td>11.150783</td>\n",
       "      <td>-7.657312</td>\n",
       "      <td>12.484021</td>\n",
       "      <td>-11.709772</td>\n",
       "      <td>3.426596</td>\n",
       "      <td>1.462715</td>\n",
       "      <td>-2.812753</td>\n",
       "      <td>0.866538</td>\n",
       "      <td>-5.244274</td>\n",
       "    </tr>\n",
       "    <tr>\n",
       "      <th>1</th>\n",
       "      <td>ES</td>\n",
       "      <td>10.982967</td>\n",
       "      <td>-5.157445</td>\n",
       "      <td>3.952060</td>\n",
       "      <td>11.529381</td>\n",
       "      <td>-7.638047</td>\n",
       "      <td>12.136098</td>\n",
       "      <td>-12.036247</td>\n",
       "      <td>3.491943</td>\n",
       "      <td>0.595441</td>\n",
       "      <td>-4.508811</td>\n",
       "      <td>2.332147</td>\n",
       "      <td>-6.221857</td>\n",
       "    </tr>\n",
       "    <tr>\n",
       "      <th>2</th>\n",
       "      <td>ES</td>\n",
       "      <td>7.827108</td>\n",
       "      <td>-5.477472</td>\n",
       "      <td>7.816257</td>\n",
       "      <td>9.187592</td>\n",
       "      <td>-7.172511</td>\n",
       "      <td>11.715299</td>\n",
       "      <td>-13.847214</td>\n",
       "      <td>4.574075</td>\n",
       "      <td>-1.687559</td>\n",
       "      <td>-7.204041</td>\n",
       "      <td>-0.011847</td>\n",
       "      <td>-6.463144</td>\n",
       "    </tr>\n",
       "    <tr>\n",
       "      <th>3</th>\n",
       "      <td>ES</td>\n",
       "      <td>6.744083</td>\n",
       "      <td>-5.688920</td>\n",
       "      <td>6.546789</td>\n",
       "      <td>9.000183</td>\n",
       "      <td>-6.924963</td>\n",
       "      <td>11.710766</td>\n",
       "      <td>-12.374388</td>\n",
       "      <td>6.169879</td>\n",
       "      <td>-0.544747</td>\n",
       "      <td>-6.019237</td>\n",
       "      <td>1.358559</td>\n",
       "      <td>-6.356441</td>\n",
       "    </tr>\n",
       "    <tr>\n",
       "      <th>4</th>\n",
       "      <td>ES</td>\n",
       "      <td>5.836843</td>\n",
       "      <td>-5.326557</td>\n",
       "      <td>7.472265</td>\n",
       "      <td>8.847440</td>\n",
       "      <td>-6.773244</td>\n",
       "      <td>12.677218</td>\n",
       "      <td>-12.315061</td>\n",
       "      <td>4.416344</td>\n",
       "      <td>0.193500</td>\n",
       "      <td>-3.644812</td>\n",
       "      <td>2.151239</td>\n",
       "      <td>-6.816310</td>\n",
       "    </tr>\n",
       "  </tbody>\n",
       "</table>\n",
       "</div>"
      ],
      "text/plain": [
       "  language         X1        X2        X3         X4        X5         X6  \\\n",
       "0       ES   7.071476 -6.512900  7.650800  11.150783 -7.657312  12.484021   \n",
       "1       ES  10.982967 -5.157445  3.952060  11.529381 -7.638047  12.136098   \n",
       "2       ES   7.827108 -5.477472  7.816257   9.187592 -7.172511  11.715299   \n",
       "3       ES   6.744083 -5.688920  6.546789   9.000183 -6.924963  11.710766   \n",
       "4       ES   5.836843 -5.326557  7.472265   8.847440 -6.773244  12.677218   \n",
       "\n",
       "          X7        X8        X9       X10       X11       X12  \n",
       "0 -11.709772  3.426596  1.462715 -2.812753  0.866538 -5.244274  \n",
       "1 -12.036247  3.491943  0.595441 -4.508811  2.332147 -6.221857  \n",
       "2 -13.847214  4.574075 -1.687559 -7.204041 -0.011847 -6.463144  \n",
       "3 -12.374388  6.169879 -0.544747 -6.019237  1.358559 -6.356441  \n",
       "4 -12.315061  4.416344  0.193500 -3.644812  2.151239 -6.816310  "
      ]
     },
     "execution_count": 250,
     "metadata": {},
     "output_type": "execute_result"
    }
   ],
   "source": [
    "data = pd.read_csv('accent-recognition/accent-mfcc-data-1.csv')\n",
    "print(data.shape)\n",
    "print(data.isnull().sum().sum())\n",
    "data.head()"
   ]
  },
  {
   "cell_type": "code",
   "execution_count": 251,
   "metadata": {},
   "outputs": [
    {
     "name": "stdout",
     "output_type": "stream",
     "text": [
      "(329, 12)\n",
      "['ES' 'FR' 'GE' 'IT' 'UK' 'US']\n"
     ]
    }
   ],
   "source": [
    "X = data.iloc[:,1:]\n",
    "y = data.iloc[:,0]\n",
    "print(X.shape)\n",
    "print(y.unique())"
   ]
  },
  {
   "cell_type": "code",
   "execution_count": 253,
   "metadata": {},
   "outputs": [
    {
     "data": {
      "text/plain": [
       "language\n",
       "ES     29\n",
       "FR     30\n",
       "GE     30\n",
       "IT     30\n",
       "UK     45\n",
       "US    165\n",
       "Name: language, dtype: int64"
      ]
     },
     "execution_count": 253,
     "metadata": {},
     "output_type": "execute_result"
    }
   ],
   "source": [
    "y.groupby(by=y).count()"
   ]
  },
  {
   "cell_type": "code",
   "execution_count": 252,
   "metadata": {},
   "outputs": [
    {
     "data": {
      "text/html": [
       "<div>\n",
       "<style scoped>\n",
       "    .dataframe tbody tr th:only-of-type {\n",
       "        vertical-align: middle;\n",
       "    }\n",
       "\n",
       "    .dataframe tbody tr th {\n",
       "        vertical-align: top;\n",
       "    }\n",
       "\n",
       "    .dataframe thead tr th {\n",
       "        text-align: left;\n",
       "    }\n",
       "\n",
       "    .dataframe thead tr:last-of-type th {\n",
       "        text-align: right;\n",
       "    }\n",
       "</style>\n",
       "<table border=\"1\" class=\"dataframe\">\n",
       "  <thead>\n",
       "    <tr>\n",
       "      <th></th>\n",
       "      <th colspan=\"8\" halign=\"left\">X1</th>\n",
       "      <th colspan=\"2\" halign=\"left\">X2</th>\n",
       "      <th>...</th>\n",
       "      <th colspan=\"2\" halign=\"left\">X11</th>\n",
       "      <th colspan=\"8\" halign=\"left\">X12</th>\n",
       "    </tr>\n",
       "    <tr>\n",
       "      <th></th>\n",
       "      <th>count</th>\n",
       "      <th>mean</th>\n",
       "      <th>std</th>\n",
       "      <th>min</th>\n",
       "      <th>25%</th>\n",
       "      <th>50%</th>\n",
       "      <th>75%</th>\n",
       "      <th>max</th>\n",
       "      <th>count</th>\n",
       "      <th>mean</th>\n",
       "      <th>...</th>\n",
       "      <th>75%</th>\n",
       "      <th>max</th>\n",
       "      <th>count</th>\n",
       "      <th>mean</th>\n",
       "      <th>std</th>\n",
       "      <th>min</th>\n",
       "      <th>25%</th>\n",
       "      <th>50%</th>\n",
       "      <th>75%</th>\n",
       "      <th>max</th>\n",
       "    </tr>\n",
       "    <tr>\n",
       "      <th>language</th>\n",
       "      <th></th>\n",
       "      <th></th>\n",
       "      <th></th>\n",
       "      <th></th>\n",
       "      <th></th>\n",
       "      <th></th>\n",
       "      <th></th>\n",
       "      <th></th>\n",
       "      <th></th>\n",
       "      <th></th>\n",
       "      <th></th>\n",
       "      <th></th>\n",
       "      <th></th>\n",
       "      <th></th>\n",
       "      <th></th>\n",
       "      <th></th>\n",
       "      <th></th>\n",
       "      <th></th>\n",
       "      <th></th>\n",
       "      <th></th>\n",
       "      <th></th>\n",
       "    </tr>\n",
       "  </thead>\n",
       "  <tbody>\n",
       "    <tr>\n",
       "      <th>ES</th>\n",
       "      <td>29.0</td>\n",
       "      <td>9.870596</td>\n",
       "      <td>2.635284</td>\n",
       "      <td>5.836843</td>\n",
       "      <td>7.598763</td>\n",
       "      <td>10.148804</td>\n",
       "      <td>11.957764</td>\n",
       "      <td>14.796961</td>\n",
       "      <td>29.0</td>\n",
       "      <td>-5.810810</td>\n",
       "      <td>...</td>\n",
       "      <td>5.302515</td>\n",
       "      <td>9.166066</td>\n",
       "      <td>29.0</td>\n",
       "      <td>-3.725110</td>\n",
       "      <td>2.282802</td>\n",
       "      <td>-6.816310</td>\n",
       "      <td>-5.847239</td>\n",
       "      <td>-4.294401</td>\n",
       "      <td>-2.191658</td>\n",
       "      <td>1.079622</td>\n",
       "    </tr>\n",
       "    <tr>\n",
       "      <th>FR</th>\n",
       "      <td>30.0</td>\n",
       "      <td>6.702179</td>\n",
       "      <td>5.407628</td>\n",
       "      <td>-2.339695</td>\n",
       "      <td>2.307446</td>\n",
       "      <td>6.126571</td>\n",
       "      <td>11.561682</td>\n",
       "      <td>15.195717</td>\n",
       "      <td>30.0</td>\n",
       "      <td>-5.181109</td>\n",
       "      <td>...</td>\n",
       "      <td>4.834860</td>\n",
       "      <td>8.485256</td>\n",
       "      <td>30.0</td>\n",
       "      <td>-5.527352</td>\n",
       "      <td>1.859602</td>\n",
       "      <td>-9.614959</td>\n",
       "      <td>-6.672609</td>\n",
       "      <td>-5.363448</td>\n",
       "      <td>-3.908692</td>\n",
       "      <td>-1.761528</td>\n",
       "    </tr>\n",
       "    <tr>\n",
       "      <th>GE</th>\n",
       "      <td>30.0</td>\n",
       "      <td>3.838028</td>\n",
       "      <td>3.006764</td>\n",
       "      <td>-2.880823</td>\n",
       "      <td>2.361031</td>\n",
       "      <td>4.133149</td>\n",
       "      <td>6.128982</td>\n",
       "      <td>7.974355</td>\n",
       "      <td>30.0</td>\n",
       "      <td>-1.349269</td>\n",
       "      <td>...</td>\n",
       "      <td>4.967293</td>\n",
       "      <td>5.874195</td>\n",
       "      <td>30.0</td>\n",
       "      <td>-5.093963</td>\n",
       "      <td>2.032062</td>\n",
       "      <td>-9.162163</td>\n",
       "      <td>-6.105584</td>\n",
       "      <td>-5.231369</td>\n",
       "      <td>-3.360758</td>\n",
       "      <td>-1.504672</td>\n",
       "    </tr>\n",
       "    <tr>\n",
       "      <th>IT</th>\n",
       "      <td>30.0</td>\n",
       "      <td>1.197758</td>\n",
       "      <td>3.430359</td>\n",
       "      <td>-4.835242</td>\n",
       "      <td>-1.231737</td>\n",
       "      <td>1.077553</td>\n",
       "      <td>3.293659</td>\n",
       "      <td>10.808621</td>\n",
       "      <td>30.0</td>\n",
       "      <td>-1.757358</td>\n",
       "      <td>...</td>\n",
       "      <td>4.375117</td>\n",
       "      <td>7.452259</td>\n",
       "      <td>30.0</td>\n",
       "      <td>-3.601017</td>\n",
       "      <td>2.150360</td>\n",
       "      <td>-8.731785</td>\n",
       "      <td>-4.969127</td>\n",
       "      <td>-3.735597</td>\n",
       "      <td>-2.238007</td>\n",
       "      <td>0.463408</td>\n",
       "    </tr>\n",
       "    <tr>\n",
       "      <th>UK</th>\n",
       "      <td>45.0</td>\n",
       "      <td>2.569596</td>\n",
       "      <td>2.693104</td>\n",
       "      <td>-6.067831</td>\n",
       "      <td>1.467842</td>\n",
       "      <td>3.181085</td>\n",
       "      <td>4.300413</td>\n",
       "      <td>7.597610</td>\n",
       "      <td>45.0</td>\n",
       "      <td>-3.623697</td>\n",
       "      <td>...</td>\n",
       "      <td>3.810329</td>\n",
       "      <td>6.666935</td>\n",
       "      <td>45.0</td>\n",
       "      <td>-4.927075</td>\n",
       "      <td>2.129274</td>\n",
       "      <td>-8.869338</td>\n",
       "      <td>-6.091090</td>\n",
       "      <td>-5.029416</td>\n",
       "      <td>-3.873465</td>\n",
       "      <td>0.910715</td>\n",
       "    </tr>\n",
       "    <tr>\n",
       "      <th>US</th>\n",
       "      <td>165.0</td>\n",
       "      <td>6.686435</td>\n",
       "      <td>5.374274</td>\n",
       "      <td>-4.222359</td>\n",
       "      <td>3.118493</td>\n",
       "      <td>6.463956</td>\n",
       "      <td>10.941727</td>\n",
       "      <td>17.749851</td>\n",
       "      <td>165.0</td>\n",
       "      <td>-4.999308</td>\n",
       "      <td>...</td>\n",
       "      <td>4.808198</td>\n",
       "      <td>7.801054</td>\n",
       "      <td>165.0</td>\n",
       "      <td>-3.352363</td>\n",
       "      <td>3.495758</td>\n",
       "      <td>-13.724103</td>\n",
       "      <td>-5.739362</td>\n",
       "      <td>-3.306123</td>\n",
       "      <td>-1.227931</td>\n",
       "      <td>5.259430</td>\n",
       "    </tr>\n",
       "  </tbody>\n",
       "</table>\n",
       "<p>6 rows × 96 columns</p>\n",
       "</div>"
      ],
      "text/plain": [
       "             X1                                                                \\\n",
       "          count      mean       std       min       25%        50%        75%   \n",
       "language                                                                        \n",
       "ES         29.0  9.870596  2.635284  5.836843  7.598763  10.148804  11.957764   \n",
       "FR         30.0  6.702179  5.407628 -2.339695  2.307446   6.126571  11.561682   \n",
       "GE         30.0  3.838028  3.006764 -2.880823  2.361031   4.133149   6.128982   \n",
       "IT         30.0  1.197758  3.430359 -4.835242 -1.231737   1.077553   3.293659   \n",
       "UK         45.0  2.569596  2.693104 -6.067831  1.467842   3.181085   4.300413   \n",
       "US        165.0  6.686435  5.374274 -4.222359  3.118493   6.463956  10.941727   \n",
       "\n",
       "                        X2            ...       X11              X12  \\\n",
       "                max  count      mean  ...       75%       max  count   \n",
       "language                              ...                              \n",
       "ES        14.796961   29.0 -5.810810  ...  5.302515  9.166066   29.0   \n",
       "FR        15.195717   30.0 -5.181109  ...  4.834860  8.485256   30.0   \n",
       "GE         7.974355   30.0 -1.349269  ...  4.967293  5.874195   30.0   \n",
       "IT        10.808621   30.0 -1.757358  ...  4.375117  7.452259   30.0   \n",
       "UK         7.597610   45.0 -3.623697  ...  3.810329  6.666935   45.0   \n",
       "US        17.749851  165.0 -4.999308  ...  4.808198  7.801054  165.0   \n",
       "\n",
       "                                                                       \\\n",
       "              mean       std        min       25%       50%       75%   \n",
       "language                                                                \n",
       "ES       -3.725110  2.282802  -6.816310 -5.847239 -4.294401 -2.191658   \n",
       "FR       -5.527352  1.859602  -9.614959 -6.672609 -5.363448 -3.908692   \n",
       "GE       -5.093963  2.032062  -9.162163 -6.105584 -5.231369 -3.360758   \n",
       "IT       -3.601017  2.150360  -8.731785 -4.969127 -3.735597 -2.238007   \n",
       "UK       -4.927075  2.129274  -8.869338 -6.091090 -5.029416 -3.873465   \n",
       "US       -3.352363  3.495758 -13.724103 -5.739362 -3.306123 -1.227931   \n",
       "\n",
       "                    \n",
       "               max  \n",
       "language            \n",
       "ES        1.079622  \n",
       "FR       -1.761528  \n",
       "GE       -1.504672  \n",
       "IT        0.463408  \n",
       "UK        0.910715  \n",
       "US        5.259430  \n",
       "\n",
       "[6 rows x 96 columns]"
      ]
     },
     "execution_count": 252,
     "metadata": {},
     "output_type": "execute_result"
    }
   ],
   "source": [
    "X.groupby(by=y).describe()"
   ]
  },
  {
   "cell_type": "code",
   "execution_count": 254,
   "metadata": {},
   "outputs": [],
   "source": [
    "def tacnost_po_klasi(mat_konf, klase):\n",
    "    tacnost_i = []\n",
    "    N = mat_konf.shape[0]\n",
    "    for i in range(N):\n",
    "        j = np.delete(np.array(range(N)),i) \n",
    "        TP = mat_konf[i,i]\n",
    "        F = 0\n",
    "        F = (sum(mat_konf[i,j]) + sum(mat_konf[j,i]))\n",
    "        TN = sum(sum(mat_konf)) - F - TP\n",
    "        tacnost_i.append((TP+TN)/sum(sum(mat_konf)))\n",
    "        print('Za klasu ', klase[i], ' tacnost je: ', tacnost_i[i])\n",
    "    tacnost_avg = np.mean(tacnost_i)\n",
    "    return tacnost_avg"
   ]
  },
  {
   "cell_type": "code",
   "execution_count": 255,
   "metadata": {},
   "outputs": [],
   "source": [
    "def osetljivost_po_klasi(mat_konf, klase):\n",
    "    osetljivost_i = []\n",
    "    N = mat_konf.shape[0]\n",
    "    for i in range(N):\n",
    "        j = np.delete(np.array(range(N)),i) \n",
    "        TP = mat_konf[i,i]\n",
    "        FN = sum(mat_konf[i,j])\n",
    "        osetljivost_i.append(TP/(TP+FN))\n",
    "        print('Za klasu ', klase[i], ' osetljivost je: ', osetljivost_i[i])\n",
    "    osetljivost_avg = np.mean(osetljivost_i)\n",
    "    return osetljivost_avg"
   ]
  },
  {
   "cell_type": "markdown",
   "metadata": {},
   "source": [
    "Originalni skup"
   ]
  },
  {
   "cell_type": "code",
   "execution_count": 256,
   "metadata": {},
   "outputs": [
    {
     "data": {
      "image/png": "[encoded data removed]",
      "text/plain": [
       "<Figure size 432x288 with 1 Axes>"
      ]
     },
     "metadata": {
      "needs_background": "light"
     },
     "output_type": "display_data"
    },
    {
     "name": "stdout",
     "output_type": "stream",
     "text": [
      "0.6272727272727273\n"
     ]
    },
    {
     "data": {
      "image/png": "[encoded data removed]",
      "text/plain": [
       "<Figure size 432x288 with 1 Axes>"
      ]
     },
     "metadata": {
      "needs_background": "light"
     },
     "output_type": "display_data"
    },
    {
     "name": "stdout",
     "output_type": "stream",
     "text": [
      "0.6818181818181818\n"
     ]
    },
    {
     "data": {
      "image/png": "[encoded data removed]",
      "text/plain": [
       "<Figure size 432x288 with 1 Axes>"
      ]
     },
     "metadata": {
      "needs_background": "light"
     },
     "output_type": "display_data"
    },
    {
     "name": "stdout",
     "output_type": "stream",
     "text": [
      "0.7614678899082569\n",
      "konacna matrica konfuzije: \n",
      " [[ 14.   0.   0.   0.   1.  14.]\n",
      " [  0.   3.   2.   2.   0.  23.]\n",
      " [  0.   0.  13.   4.   0.  13.]\n",
      " [  0.   1.   3.   9.   3.  14.]\n",
      " [  0.   0.   0.   0.  33.  12.]\n",
      " [  1.   0.   1.   3.   5. 155.]]\n",
      "procenat tacno predvidjenih:  0.6899696048632219\n"
     ]
    }
   ],
   "source": [
    "kf = StratifiedKFold(n_splits=3, shuffle=True, random_state=42)\n",
    "indexes = kf.split(X, y)\n",
    "acc = []\n",
    "fin_conf_mat = np.zeros((len(np.unique(y)),len(np.unique(y))))\n",
    "for train_index, test_index in indexes:\n",
    "    classifier = MLPClassifier(hidden_layer_sizes=(64,64,64), activation='tanh',\n",
    "                              solver='adam', batch_size=50, learning_rate='constant', \n",
    "                              learning_rate_init=0.001, max_iter=50, shuffle=True,\n",
    "                              random_state=42, early_stopping=True, n_iter_no_change=10,\n",
    "                              validation_fraction=0.1, verbose=False)\n",
    "    classifier.fit(X.iloc[train_index,:], y.iloc[train_index])\n",
    "    y_pred = classifier.predict(X.iloc[test_index,:])\n",
    "    #y_pred_p = classifier.predict_proba(X.iloc[test_index,:])\n",
    "    plt.figure\n",
    "    plt.plot(classifier.validation_scores_)\n",
    "    #plt.plot(classifier.loss_curve_)\n",
    "    plt.show()\n",
    "    print(accuracy_score(y.iloc[test_index], y_pred))\n",
    "    fin_conf_mat += confusion_matrix(y.iloc[test_index], y_pred)\n",
    "print('konacna matrica konfuzije: \\n', fin_conf_mat)\n",
    "print('procenat tacno predvidjenih: ', sum(np.diag(fin_conf_mat))/sum(sum(fin_conf_mat)))"
   ]
  },
  {
   "cell_type": "code",
   "execution_count": 257,
   "metadata": {},
   "outputs": [
    {
     "name": "stdout",
     "output_type": "stream",
     "text": [
      "Za klasu  ES  tacnost je:  0.9513677811550152\n",
      "Za klasu  FR  tacnost je:  0.9148936170212766\n",
      "Za klasu  GE  tacnost je:  0.9300911854103343\n",
      "Za klasu  IT  tacnost je:  0.9088145896656535\n",
      "Za klasu  UK  tacnost je:  0.9361702127659575\n",
      "Za klasu  US  tacnost je:  0.7386018237082067\n",
      "prosecna tacnost je:  0.8966565349544072\n"
     ]
    }
   ],
   "source": [
    "print('prosecna tacnost je: ', tacnost_po_klasi(fin_conf_mat, y.unique()))"
   ]
  },
  {
   "cell_type": "code",
   "execution_count": 258,
   "metadata": {},
   "outputs": [
    {
     "name": "stdout",
     "output_type": "stream",
     "text": [
      "Za klasu  ES  osetljivost je:  0.4827586206896552\n",
      "Za klasu  FR  osetljivost je:  0.1\n",
      "Za klasu  GE  osetljivost je:  0.43333333333333335\n",
      "Za klasu  IT  osetljivost je:  0.3\n",
      "Za klasu  UK  osetljivost je:  0.7333333333333333\n",
      "Za klasu  US  osetljivost je:  0.9393939393939394\n",
      "prosecna osetljivost je:  0.4981365377917102\n"
     ]
    }
   ],
   "source": [
    "print('prosecna osetljivost je: ', osetljivost_po_klasi(fin_conf_mat, y.unique()))"
   ]
  },
  {
   "cell_type": "markdown",
   "metadata": {},
   "source": [
    "Undersampling of US class"
   ]
  },
  {
   "cell_type": "code",
   "execution_count": 259,
   "metadata": {},
   "outputs": [
    {
     "name": "stdout",
     "output_type": "stream",
     "text": [
      "original X:  (329, 12)\n",
      "original y:  (329,)\n",
      "redukovan X:  (219, 12)\n",
      "redukovan y:  (219,)\n"
     ]
    },
    {
     "data": {
      "text/plain": [
       "language\n",
       "ES    29\n",
       "FR    30\n",
       "GE    30\n",
       "IT    30\n",
       "UK    45\n",
       "US    55\n",
       "Name: language, dtype: int64"
      ]
     },
     "execution_count": 259,
     "metadata": {},
     "output_type": "execute_result"
    }
   ],
   "source": [
    "US_ind = y.loc[y=='US'].index\n",
    "US_ind_red = US_ind[::3]\n",
    "rest_ind = y.loc[y!='US'].index\n",
    "keep_ind = np.concatenate((US_ind_red,rest_ind))\n",
    "y_undersample = y.copy(deep=True)\n",
    "X_undersample = X.copy(deep=True)\n",
    "for i in range(len(y)):\n",
    "    if i not in keep_ind:\n",
    "        y_undersample.drop(i, axis=0, inplace=True)\n",
    "        X_undersample.drop(i, axis=0, inplace=True)\n",
    "        \n",
    "print('original X: ', X.shape)\n",
    "print('original y: ', y.shape)\n",
    "print('redukovan X: ', X_undersample.shape)\n",
    "print('redukovan y: ', y_undersample.shape)\n",
    "y_undersample.groupby(by=y_undersample).count()"
   ]
  },
  {
   "cell_type": "code",
   "execution_count": 260,
   "metadata": {},
   "outputs": [
    {
     "data": {
      "image/png": "[encoded data removed]",
      "text/plain": [
       "<Figure size 432x288 with 1 Axes>"
      ]
     },
     "metadata": {
      "needs_background": "light"
     },
     "output_type": "display_data"
    },
    {
     "name": "stdout",
     "output_type": "stream",
     "text": [
      "0.6986301369863014\n"
     ]
    },
    {
     "data": {
      "image/png": "[encoded data removed]",
      "text/plain": [
       "<Figure size 432x288 with 1 Axes>"
      ]
     },
     "metadata": {
      "needs_background": "light"
     },
     "output_type": "display_data"
    },
    {
     "name": "stdout",
     "output_type": "stream",
     "text": [
      "0.726027397260274\n"
     ]
    },
    {
     "data": {
      "image/png": "[encoded data removed]",
      "text/plain": [
       "<Figure size 432x288 with 1 Axes>"
      ]
     },
     "metadata": {
      "needs_background": "light"
     },
     "output_type": "display_data"
    },
    {
     "name": "stdout",
     "output_type": "stream",
     "text": [
      "0.684931506849315\n",
      "konacna matrica konfuzije: \n",
      " [[24.  1.  0.  0.  1.  3.]\n",
      " [ 0. 12.  0.  3.  0. 15.]\n",
      " [ 0.  0. 22.  3.  0.  5.]\n",
      " [ 1.  1.  2. 17.  4.  5.]\n",
      " [ 0.  0.  1.  2. 40.  2.]\n",
      " [ 4.  6.  0.  3.  3. 39.]]\n",
      "procenat tacno predvidjenih:  0.7031963470319634\n"
     ]
    }
   ],
   "source": [
    "kf = StratifiedKFold(n_splits=3, shuffle=True, random_state=42)\n",
    "indexes = kf.split(X_undersample, y_undersample)\n",
    "acc = []\n",
    "fin_conf_mat = np.zeros((len(np.unique(y_undersample)),len(np.unique(y_undersample))))\n",
    "for train_index, test_index in indexes:\n",
    "    classifier = MLPClassifier(hidden_layer_sizes=(64,64,64), activation='tanh',\n",
    "                              solver='adam', batch_size=50, learning_rate='constant', \n",
    "                              learning_rate_init=0.001, max_iter=50, shuffle=True,\n",
    "                              random_state=42, early_stopping=True, n_iter_no_change=10,\n",
    "                              validation_fraction=0.1, verbose=False)\n",
    "    classifier.fit(X_undersample.iloc[train_index,:], y_undersample.iloc[train_index])\n",
    "    y_pred = classifier.predict(X_undersample.iloc[test_index,:])\n",
    "    #y_pred_p = classifier.predict_proba(X.iloc[test_index,:])\n",
    "    plt.figure\n",
    "    plt.plot(classifier.validation_scores_)\n",
    "    #plt.plot(classifier.loss_curve_)\n",
    "    plt.show()\n",
    "    print(accuracy_score(y_undersample.iloc[test_index], y_pred))\n",
    "    fin_conf_mat += confusion_matrix(y_undersample.iloc[test_index], y_pred)\n",
    "print('konacna matrica konfuzije: \\n', fin_conf_mat)\n",
    "print('procenat tacno predvidjenih: ', sum(np.diag(fin_conf_mat))/sum(sum(fin_conf_mat)))\n"
   ]
  },
  {
   "cell_type": "code",
   "execution_count": 261,
   "metadata": {},
   "outputs": [
    {
     "name": "stdout",
     "output_type": "stream",
     "text": [
      "Za klasu  ES  tacnost je:  0.954337899543379\n",
      "Za klasu  FR  tacnost je:  0.8812785388127854\n",
      "Za klasu  GE  tacnost je:  0.9497716894977168\n",
      "Za klasu  IT  tacnost je:  0.8904109589041096\n",
      "Za klasu  UK  tacnost je:  0.9406392694063926\n",
      "Za klasu  US  tacnost je:  0.7899543378995434\n",
      "prosecna tacnost je:  0.9010654490106546\n"
     ]
    }
   ],
   "source": [
    "print('prosecna tacnost je: ', tacnost_po_klasi(fin_conf_mat, y.unique()))"
   ]
  },
  {
   "cell_type": "code",
   "execution_count": 262,
   "metadata": {},
   "outputs": [
    {
     "name": "stdout",
     "output_type": "stream",
     "text": [
      "Za klasu  ES  osetljivost je:  0.8275862068965517\n",
      "Za klasu  FR  osetljivost je:  0.4\n",
      "Za klasu  GE  osetljivost je:  0.7333333333333333\n",
      "Za klasu  IT  osetljivost je:  0.5666666666666667\n",
      "Za klasu  UK  osetljivost je:  0.8888888888888888\n",
      "Za klasu  US  osetljivost je:  0.7090909090909091\n",
      "prosecna osetljivost je:  0.6875943341460583\n"
     ]
    }
   ],
   "source": [
    "print('prosecna osetljivost je: ', osetljivost_po_klasi(fin_conf_mat, y.unique()))"
   ]
  },
  {
   "cell_type": "markdown",
   "metadata": {},
   "source": [
    "Upsampling of all classes except US"
   ]
  },
  {
   "cell_type": "code",
   "execution_count": 263,
   "metadata": {},
   "outputs": [
    {
     "name": "stdout",
     "output_type": "stream",
     "text": [
      "original X:  (329, 12)\n",
      "original y:  (329,)\n",
      "redukovan X:  (493, 12)\n",
      "redukovan y:  (493,)\n"
     ]
    },
    {
     "data": {
      "text/plain": [
       "language\n",
       "ES     58\n",
       "FR     60\n",
       "GE     60\n",
       "IT     60\n",
       "UK     90\n",
       "US    165\n",
       "Name: language, dtype: int64"
      ]
     },
     "execution_count": 263,
     "metadata": {},
     "output_type": "execute_result"
    }
   ],
   "source": [
    "rest_ind = y.loc[y!='US'].index\n",
    "us_ind = y.loc[y=='US'].index\n",
    "#y_upsample = y.copy(deep=True)\n",
    "#X_upsample = X.copy(deep=True)\n",
    "\n",
    "X_dupl = X.iloc[rest_ind,:]\n",
    "X_duplicated = pd.concat([X_dupl]*2, ignore_index=True)\n",
    "X_upsample = X_duplicated.append(X.iloc[us_ind,:], ignore_index=True)\n",
    "\n",
    "y_dupl = y.iloc[rest_ind]\n",
    "y_duplicated = pd.concat([y_dupl]*2, ignore_index=True)\n",
    "y_upsample = y_duplicated.append(y.iloc[us_ind], ignore_index=True)\n",
    "        \n",
    "print('original X: ', X.shape)\n",
    "print('original y: ', y.shape)\n",
    "print('redukovan X: ', X_upsample.shape)\n",
    "print('redukovan y: ', y_upsample.shape)\n",
    "y_upsample.groupby(by=y_upsample).count()"
   ]
  },
  {
   "cell_type": "code",
   "execution_count": 264,
   "metadata": {},
   "outputs": [
    {
     "data": {
      "image/png": "[encoded data removed]",
      "text/plain": [
       "<Figure size 432x288 with 1 Axes>"
      ]
     },
     "metadata": {
      "needs_background": "light"
     },
     "output_type": "display_data"
    },
    {
     "name": "stdout",
     "output_type": "stream",
     "text": [
      "0.7696969696969697\n"
     ]
    },
    {
     "data": {
      "image/png": "[encoded data removed]",
      "text/plain": [
       "<Figure size 432x288 with 1 Axes>"
      ]
     },
     "metadata": {
      "needs_background": "light"
     },
     "output_type": "display_data"
    },
    {
     "name": "stdout",
     "output_type": "stream",
     "text": [
      "0.7560975609756098\n"
     ]
    },
    {
     "data": {
      "image/png": "[encoded data removed]",
      "text/plain": [
       "<Figure size 432x288 with 1 Axes>"
      ]
     },
     "metadata": {
      "needs_background": "light"
     },
     "output_type": "display_data"
    },
    {
     "name": "stdout",
     "output_type": "stream",
     "text": [
      "0.8292682926829268\n",
      "konacna matrica konfuzije: \n",
      " [[ 53.   0.   0.   0.   2.   3.]\n",
      " [  1.  47.   1.   2.   0.   9.]\n",
      " [  0.   1.  44.   6.   0.   9.]\n",
      " [  0.   2.   6.  42.   4.   6.]\n",
      " [  0.   2.   1.   7.  77.   3.]\n",
      " [ 11.  11.   6.   6.   7. 124.]]\n",
      "procenat tacno predvidjenih:  0.7849898580121704\n"
     ]
    }
   ],
   "source": [
    "kf = StratifiedKFold(n_splits=3, shuffle=True, random_state=42)\n",
    "indexes = kf.split(X_upsample, y_upsample)\n",
    "acc = []\n",
    "fin_conf_mat = np.zeros((len(np.unique(y_upsample)),len(np.unique(y_upsample))))\n",
    "for train_index, test_index in indexes:\n",
    "    classifier = MLPClassifier(hidden_layer_sizes=(64,64,64), activation='tanh',\n",
    "                              solver='adam', batch_size=50, learning_rate='constant', \n",
    "                              learning_rate_init=0.001, max_iter=50, shuffle=True,\n",
    "                              random_state=42, early_stopping=True, n_iter_no_change=10,\n",
    "                              validation_fraction=0.1, verbose=False)\n",
    "    classifier.fit(X_upsample.iloc[train_index,:], y_upsample.iloc[train_index])\n",
    "    y_pred = classifier.predict(X_upsample.iloc[test_index,:])\n",
    "    #y_pred_p = classifier.predict_proba(X.iloc[test_index,:])\n",
    "    plt.figure\n",
    "    plt.plot(classifier.validation_scores_)\n",
    "    #plt.plot(classifier.loss_curve_)\n",
    "    plt.show()\n",
    "    print(accuracy_score(y_upsample.iloc[test_index], y_pred))\n",
    "    fin_conf_mat += confusion_matrix(y_upsample.iloc[test_index], y_pred)\n",
    "print('konacna matrica konfuzije: \\n', fin_conf_mat)\n",
    "print('procenat tacno predvidjenih: ', sum(np.diag(fin_conf_mat))/sum(sum(fin_conf_mat)))\n"
   ]
  },
  {
   "cell_type": "code",
   "execution_count": 265,
   "metadata": {},
   "outputs": [
    {
     "name": "stdout",
     "output_type": "stream",
     "text": [
      "Za klasu  ES  tacnost je:  0.9655172413793104\n",
      "Za klasu  FR  tacnost je:  0.9411764705882353\n",
      "Za klasu  GE  tacnost je:  0.9391480730223124\n",
      "Za klasu  IT  tacnost je:  0.920892494929006\n",
      "Za klasu  UK  tacnost je:  0.947261663286004\n",
      "Za klasu  US  tacnost je:  0.8559837728194726\n",
      "prosecna tacnost je:  0.9283299526707234\n"
     ]
    }
   ],
   "source": [
    "print('prosecna tacnost je: ', tacnost_po_klasi(fin_conf_mat, y.unique()))"
   ]
  },
  {
   "cell_type": "code",
   "execution_count": 266,
   "metadata": {},
   "outputs": [
    {
     "name": "stdout",
     "output_type": "stream",
     "text": [
      "Za klasu  ES  osetljivost je:  0.9137931034482759\n",
      "Za klasu  FR  osetljivost je:  0.7833333333333333\n",
      "Za klasu  GE  osetljivost je:  0.7333333333333333\n",
      "Za klasu  IT  osetljivost je:  0.7\n",
      "Za klasu  UK  osetljivost je:  0.8555555555555555\n",
      "Za klasu  US  osetljivost je:  0.7515151515151515\n",
      "prosecna osetljivost je:  0.789588412864275\n"
     ]
    }
   ],
   "source": [
    "print('prosecna osetljivost je: ', osetljivost_po_klasi(fin_conf_mat, y.unique()))"
   ]
  },
  {
   "cell_type": "code",
   "execution_count": 273,
   "metadata": {},
   "outputs": [],
   "source": [
    "#!pip install python_speech_features"
   ]
  },
  {
   "cell_type": "code",
   "execution_count": 299,
   "metadata": {},
   "outputs": [
    {
     "name": "stderr",
     "output_type": "stream",
     "text": [
      "WARNING:root:frame length (1103) is greater than FFT size (512), frame will be truncated. Increase NFFT to avoid.\n",
      "WARNING:root:frame length (1103) is greater than FFT size (512), frame will be truncated. Increase NFFT to avoid.\n",
      "WARNING:root:frame length (1103) is greater than FFT size (512), frame will be truncated. Increase NFFT to avoid.\n",
      "WARNING:root:frame length (1103) is greater than FFT size (512), frame will be truncated. Increase NFFT to avoid.\n",
      "WARNING:root:frame length (1103) is greater than FFT size (512), frame will be truncated. Increase NFFT to avoid.\n",
      "WARNING:root:frame length (1103) is greater than FFT size (512), frame will be truncated. Increase NFFT to avoid.\n",
      "WARNING:root:frame length (1103) is greater than FFT size (512), frame will be truncated. Increase NFFT to avoid.\n",
      "WARNING:root:frame length (1103) is greater than FFT size (512), frame will be truncated. Increase NFFT to avoid.\n",
      "WARNING:root:frame length (1103) is greater than FFT size (512), frame will be truncated. Increase NFFT to avoid.\n",
      "WARNING:root:frame length (1103) is greater than FFT size (512), frame will be truncated. Increase NFFT to avoid.\n"
     ]
    },
    {
     "data": {
      "text/html": [
       "<div>\n",
       "<style scoped>\n",
       "    .dataframe tbody tr th:only-of-type {\n",
       "        vertical-align: middle;\n",
       "    }\n",
       "\n",
       "    .dataframe tbody tr th {\n",
       "        vertical-align: top;\n",
       "    }\n",
       "\n",
       "    .dataframe thead th {\n",
       "        text-align: right;\n",
       "    }\n",
       "</style>\n",
       "<table border=\"1\" class=\"dataframe\">\n",
       "  <thead>\n",
       "    <tr style=\"text-align: right;\">\n",
       "      <th></th>\n",
       "      <th>0</th>\n",
       "      <th>1</th>\n",
       "      <th>2</th>\n",
       "      <th>3</th>\n",
       "      <th>4</th>\n",
       "      <th>5</th>\n",
       "      <th>6</th>\n",
       "      <th>7</th>\n",
       "      <th>8</th>\n",
       "      <th>9</th>\n",
       "      <th>10</th>\n",
       "      <th>11</th>\n",
       "    </tr>\n",
       "  </thead>\n",
       "  <tbody>\n",
       "    <tr>\n",
       "      <th>0</th>\n",
       "      <td>13.596317</td>\n",
       "      <td>13.769166</td>\n",
       "      <td>-15.368139</td>\n",
       "      <td>-3.882979</td>\n",
       "      <td>25.968806</td>\n",
       "      <td>-15.919239</td>\n",
       "      <td>20.338251</td>\n",
       "      <td>-19.147362</td>\n",
       "      <td>-16.259369</td>\n",
       "      <td>4.133750</td>\n",
       "      <td>-14.099837</td>\n",
       "      <td>0.499783</td>\n",
       "    </tr>\n",
       "    <tr>\n",
       "      <th>1</th>\n",
       "      <td>12.654263</td>\n",
       "      <td>-3.997975</td>\n",
       "      <td>-9.997289</td>\n",
       "      <td>-7.152550</td>\n",
       "      <td>11.790281</td>\n",
       "      <td>-24.306602</td>\n",
       "      <td>8.528665</td>\n",
       "      <td>-13.459479</td>\n",
       "      <td>-0.163449</td>\n",
       "      <td>-1.829921</td>\n",
       "      <td>-4.355760</td>\n",
       "      <td>5.470557</td>\n",
       "    </tr>\n",
       "    <tr>\n",
       "      <th>2</th>\n",
       "      <td>12.124462</td>\n",
       "      <td>0.811677</td>\n",
       "      <td>5.732237</td>\n",
       "      <td>-11.509470</td>\n",
       "      <td>10.506270</td>\n",
       "      <td>-19.786692</td>\n",
       "      <td>13.848628</td>\n",
       "      <td>-15.780185</td>\n",
       "      <td>-0.828550</td>\n",
       "      <td>2.200665</td>\n",
       "      <td>-7.312653</td>\n",
       "      <td>4.257107</td>\n",
       "    </tr>\n",
       "    <tr>\n",
       "      <th>3</th>\n",
       "      <td>12.130343</td>\n",
       "      <td>-11.488014</td>\n",
       "      <td>-6.886449</td>\n",
       "      <td>0.320902</td>\n",
       "      <td>17.680840</td>\n",
       "      <td>-22.299869</td>\n",
       "      <td>11.903588</td>\n",
       "      <td>-21.418134</td>\n",
       "      <td>-5.138466</td>\n",
       "      <td>-1.607433</td>\n",
       "      <td>-4.674570</td>\n",
       "      <td>1.330971</td>\n",
       "    </tr>\n",
       "    <tr>\n",
       "      <th>4</th>\n",
       "      <td>12.215831</td>\n",
       "      <td>-1.854420</td>\n",
       "      <td>-1.630390</td>\n",
       "      <td>-4.857822</td>\n",
       "      <td>18.751043</td>\n",
       "      <td>-15.971592</td>\n",
       "      <td>14.694817</td>\n",
       "      <td>-18.027944</td>\n",
       "      <td>-5.656894</td>\n",
       "      <td>-5.587857</td>\n",
       "      <td>-10.533508</td>\n",
       "      <td>2.537180</td>\n",
       "    </tr>\n",
       "  </tbody>\n",
       "</table>\n",
       "</div>"
      ],
      "text/plain": [
       "          0          1          2          3          4          5   \\\n",
       "0  13.596317  13.769166 -15.368139  -3.882979  25.968806 -15.919239   \n",
       "1  12.654263  -3.997975  -9.997289  -7.152550  11.790281 -24.306602   \n",
       "2  12.124462   0.811677   5.732237 -11.509470  10.506270 -19.786692   \n",
       "3  12.130343 -11.488014  -6.886449   0.320902  17.680840 -22.299869   \n",
       "4  12.215831  -1.854420  -1.630390  -4.857822  18.751043 -15.971592   \n",
       "\n",
       "          6          7          8         9          10        11  \n",
       "0  20.338251 -19.147362 -16.259369  4.133750 -14.099837  0.499783  \n",
       "1   8.528665 -13.459479  -0.163449 -1.829921  -4.355760  5.470557  \n",
       "2  13.848628 -15.780185  -0.828550  2.200665  -7.312653  4.257107  \n",
       "3  11.903588 -21.418134  -5.138466 -1.607433  -4.674570  1.330971  \n",
       "4  14.694817 -18.027944  -5.656894 -5.587857 -10.533508  2.537180  "
      ]
     },
     "execution_count": 299,
     "metadata": {},
     "output_type": "execute_result"
    }
   ],
   "source": [
    "from python_speech_features import mfcc\n",
    "import scipy.io.wavfile as wav\n",
    "import os\n",
    "\n",
    "test_samples = np.zeros((10,12))\n",
    "label = []\n",
    "i=0\n",
    "dir = 'accent-recognition'\n",
    "for filename in os.listdir(dir):\n",
    "    if filename.endswith(\".wav\"):\n",
    "        (rate,sig) = wav.read(os.path.join(dir,filename))\n",
    "        mfcc_feat = mfcc(sig,rate, numcep=12)\n",
    "        test_samples[i,:] = mfcc_feat.mean(axis=0)\n",
    "        label.append(os.path.basename(filename)[:2])\n",
    "        i+=1\n",
    "X_test = pd.DataFrame(test_samples)\n",
    "y_test = pd.DataFrame(label)\n",
    "X_test.head()\n"
   ]
  },
  {
   "cell_type": "code",
   "execution_count": 300,
   "metadata": {},
   "outputs": [
    {
     "name": "stdout",
     "output_type": "stream",
     "text": [
      "44100\n",
      "(12,)\n"
     ]
    },
    {
     "data": {
      "image/png": "[encoded data removed]",
      "text/plain": [
       "<Figure size 432x288 with 1 Axes>"
      ]
     },
     "metadata": {
      "needs_background": "light"
     },
     "output_type": "display_data"
    }
   ],
   "source": [
    "print(rate)\n",
    "plt.plot(sig)\n",
    "print(mfcc_feat.mean(axis=0).shape)"
   ]
  },
  {
   "cell_type": "code",
   "execution_count": 301,
   "metadata": {},
   "outputs": [
    {
     "name": "stdout",
     "output_type": "stream",
     "text": [
      "['ES' 'ES' 'ES' 'ES' 'ES' 'ES' 'ES' 'ES' 'ES' 'ES']\n",
      "    0\n",
      "0  ES\n",
      "1  FR\n",
      "2  GE\n",
      "3  IT\n",
      "4  UK\n",
      "5  US\n",
      "6  US\n",
      "7  US\n",
      "8  US\n",
      "9  US\n",
      "['ES' 'ES' 'ES' 'ES' 'ES' 'ES' 'UK' 'UK' 'UK' 'ES']\n",
      "    0\n",
      "0  ES\n",
      "1  FR\n",
      "2  GE\n",
      "3  IT\n",
      "4  UK\n",
      "5  US\n",
      "6  US\n",
      "7  US\n",
      "8  US\n",
      "9  US\n",
      "['UK' 'ES' 'ES' 'UK' 'ES' 'UK' 'ES' 'UK' 'GE' 'ES']\n",
      "    0\n",
      "0  ES\n",
      "1  FR\n",
      "2  GE\n",
      "3  IT\n",
      "4  UK\n",
      "5  US\n",
      "6  US\n",
      "7  US\n",
      "8  US\n",
      "9  US\n"
     ]
    }
   ],
   "source": [
    "classifier1 = MLPClassifier(hidden_layer_sizes=(64,64,64), activation='tanh',\n",
    "                              solver='adam', batch_size=50, learning_rate='constant', \n",
    "                              learning_rate_init=0.001, max_iter=50, shuffle=True,\n",
    "                              random_state=42, early_stopping=True, n_iter_no_change=10,\n",
    "                              validation_fraction=0.1, verbose=False)\n",
    "classifier1.fit(X,y)\n",
    "print(classifier1.predict(X_test))\n",
    "print(y_test)\n",
    "\n",
    "classifier2 = MLPClassifier(hidden_layer_sizes=(64,64,64), activation='tanh',\n",
    "                              solver='adam', batch_size=50, learning_rate='constant', \n",
    "                              learning_rate_init=0.001, max_iter=50, shuffle=True,\n",
    "                              random_state=42, early_stopping=True, n_iter_no_change=10,\n",
    "                              validation_fraction=0.1, verbose=False)\n",
    "classifier2.fit(X_undersample,y_undersample)\n",
    "print(classifier2.predict(X_test))\n",
    "print(y_test)\n",
    "\n",
    "\n",
    "classifier3 = MLPClassifier(hidden_layer_sizes=(64,64,64), activation='tanh',\n",
    "                              solver='adam', batch_size=50, learning_rate='constant', \n",
    "                              learning_rate_init=0.001, max_iter=50, shuffle=True,\n",
    "                              random_state=42, early_stopping=True, n_iter_no_change=10,\n",
    "                              validation_fraction=0.1, verbose=False)\n",
    "classifier3.fit(X_upsample,y_upsample)\n",
    "print(classifier3.predict(X_test))\n",
    "print(y_test)"
   ]
  },
  {
   "cell_type": "code",
   "execution_count": null,
   "metadata": {},
   "outputs": [],
   "source": []
  }
 ],
 "metadata": {
  "kernelspec": {
   "display_name": "Python 3",
   "language": "python",
   "name": "python3"
  },
  "language_info": {
   "codemirror_mode": {
    "name": "ipython",
    "version": 3
   },
   "file_extension": ".py",
   "mimetype": "text/x-python",
   "name": "python",
   "nbconvert_exporter": "python",
   "pygments_lexer": "ipython3",
   "version": "3.7.3"
  }
 },
 "nbformat": 4,
 "nbformat_minor": 2
}
