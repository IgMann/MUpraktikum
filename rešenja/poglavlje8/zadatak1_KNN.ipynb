{
 "cells": [
  {
   "cell_type": "code",
   "execution_count": 1,
   "metadata": {},
   "outputs": [],
   "source": [
    "import numpy as np\n",
    "import matplotlib.pyplot as plt\n",
    "import pandas as pd\n",
    "from sklearn.model_selection import train_test_split, StratifiedKFold\n",
    "from sklearn.neighbors import KNeighborsClassifier\n",
    "from sklearn.metrics import confusion_matrix"
   ]
  },
  {
   "cell_type": "code",
   "execution_count": 2,
   "metadata": {},
   "outputs": [
    {
     "data": {
      "text/html": [
       "<div>\n",
       "<style scoped>\n",
       "    .dataframe tbody tr th:only-of-type {\n",
       "        vertical-align: middle;\n",
       "    }\n",
       "\n",
       "    .dataframe tbody tr th {\n",
       "        vertical-align: top;\n",
       "    }\n",
       "\n",
       "    .dataframe thead th {\n",
       "        text-align: right;\n",
       "    }\n",
       "</style>\n",
       "<table border=\"1\" class=\"dataframe\">\n",
       "  <thead>\n",
       "    <tr style=\"text-align: right;\">\n",
       "      <th></th>\n",
       "      <th>class</th>\n",
       "      <th>services</th>\n",
       "      <th>cost</th>\n",
       "      <th>schools</th>\n",
       "      <th>police</th>\n",
       "      <th>streets</th>\n",
       "      <th>events</th>\n",
       "    </tr>\n",
       "  </thead>\n",
       "  <tbody>\n",
       "    <tr>\n",
       "      <th>0</th>\n",
       "      <td>0</td>\n",
       "      <td>3</td>\n",
       "      <td>3</td>\n",
       "      <td>3</td>\n",
       "      <td>4</td>\n",
       "      <td>2</td>\n",
       "      <td>4</td>\n",
       "    </tr>\n",
       "    <tr>\n",
       "      <th>1</th>\n",
       "      <td>0</td>\n",
       "      <td>3</td>\n",
       "      <td>2</td>\n",
       "      <td>3</td>\n",
       "      <td>5</td>\n",
       "      <td>4</td>\n",
       "      <td>3</td>\n",
       "    </tr>\n",
       "    <tr>\n",
       "      <th>2</th>\n",
       "      <td>1</td>\n",
       "      <td>5</td>\n",
       "      <td>3</td>\n",
       "      <td>3</td>\n",
       "      <td>3</td>\n",
       "      <td>3</td>\n",
       "      <td>5</td>\n",
       "    </tr>\n",
       "    <tr>\n",
       "      <th>3</th>\n",
       "      <td>0</td>\n",
       "      <td>5</td>\n",
       "      <td>4</td>\n",
       "      <td>3</td>\n",
       "      <td>3</td>\n",
       "      <td>3</td>\n",
       "      <td>5</td>\n",
       "    </tr>\n",
       "    <tr>\n",
       "      <th>4</th>\n",
       "      <td>0</td>\n",
       "      <td>5</td>\n",
       "      <td>4</td>\n",
       "      <td>3</td>\n",
       "      <td>3</td>\n",
       "      <td>3</td>\n",
       "      <td>5</td>\n",
       "    </tr>\n",
       "  </tbody>\n",
       "</table>\n",
       "</div>"
      ],
      "text/plain": [
       "   class  services  cost  schools  police  streets  events\n",
       "0      0         3     3        3       4        2       4\n",
       "1      0         3     2        3       5        4       3\n",
       "2      1         5     3        3       3        3       5\n",
       "3      0         5     4        3       3        3       5\n",
       "4      0         5     4        3       3        3       5"
      ]
     },
     "execution_count": 2,
     "metadata": {},
     "output_type": "execute_result"
    }
   ],
   "source": [
    "# Read dataset to pandas dataframe\n",
    "cols = ['class', 'services', 'cost', 'schools', 'police', 'streets', 'events']\n",
    "dataset = pd.read_csv('SomervilleHappinessSurvey2015.csv', encoding = \"utf-16\")\n",
    "dataset.columns = cols\n",
    "dataset.head()"
   ]
  },
  {
   "cell_type": "code",
   "execution_count": 3,
   "metadata": {},
   "outputs": [],
   "source": [
    "X = dataset.iloc[:, 1:]\n",
    "y = dataset.iloc[:, 0]\n"
   ]
  },
  {
   "cell_type": "code",
   "execution_count": 4,
   "metadata": {},
   "outputs": [],
   "source": [
    "#Zadatak1:\n",
    "\n",
    "# podela podataka na trening i test\n",
    "X_train, X_test, y_train, y_test = train_test_split(X, y, test_size=0.1, random_state=10, stratify=y)"
   ]
  },
  {
   "cell_type": "code",
   "execution_count": 5,
   "metadata": {},
   "outputs": [
    {
     "data": {
      "text/plain": [
       "KNeighborsClassifier(algorithm='auto', leaf_size=30, metric='hamming',\n",
       "           metric_params=None, n_jobs=None, n_neighbors=5, p=2,\n",
       "           weights='uniform')"
      ]
     },
     "execution_count": 5,
     "metadata": {},
     "output_type": "execute_result"
    }
   ],
   "source": [
    "# inicijalizacija i obuka klasifikatora\n",
    "classifier = KNeighborsClassifier(n_neighbors=5, metric='hamming')\n",
    "classifier.fit(X_train, y_train)\n",
    "# n_neighbors (default 5)\n",
    "# weights (uniform, distance or user-defined)\n",
    "# p (default 2, meaning euclidean, 1 would be manhattan)\n",
    "# metric (default minkowski, sklearn.neighbors.DistanceMetric (euclidean, manhattan, chebyshev, minkowski, hamming(int), jaccard, dice))\n",
    "# metric_params "
   ]
  },
  {
   "cell_type": "code",
   "execution_count": 6,
   "metadata": {},
   "outputs": [
    {
     "name": "stdout",
     "output_type": "stream",
     "text": [
      "[[4 3]\n",
      " [3 5]]\n"
     ]
    }
   ],
   "source": [
    "# testiranje\n",
    "y_pred = classifier.predict(X_test) \n",
    "conf_mat = confusion_matrix(y_test, y_pred) # TN, FP\n",
    "print(conf_mat)                             # FN, TP"
   ]
  },
  {
   "cell_type": "code",
   "execution_count": 7,
   "metadata": {},
   "outputs": [
    {
     "name": "stdout",
     "output_type": "stream",
     "text": [
      "precision:  0.625\n",
      "accuracy:  0.6\n",
      "sensitivity/recall:  0.625\n",
      "specificity:  0.5714285714285714\n",
      "F score:  0.625\n"
     ]
    }
   ],
   "source": [
    "TP = conf_mat[1, 1]\n",
    "TN = conf_mat[0, 0]\n",
    "FP = conf_mat[0, 1]\n",
    "FN = conf_mat[1, 0]\n",
    "precision = TP/(TP+FP)\n",
    "accuracy = (TP+TN)/(TP+TN+FP+FN)\n",
    "sensitivity = TP/(TP+FN)\n",
    "specificity = TN/(TN+FP)\n",
    "F_score = 2*precision*sensitivity/(precision+sensitivity)\n",
    "print('precision: ', precision)\n",
    "print('accuracy: ', accuracy)\n",
    "print('sensitivity/recall: ', sensitivity)\n",
    "print('specificity: ', specificity)\n",
    "print('F score: ', F_score)"
   ]
  },
  {
   "cell_type": "code",
   "execution_count": 8,
   "metadata": {},
   "outputs": [
    {
     "name": "stdout",
     "output_type": "stream",
     "text": [
      "[[8 6]\n",
      " [7 9]]\n",
      "[[6 7]\n",
      " [8 8]]\n",
      "[[ 8  5]\n",
      " [ 5 10]]\n",
      "[[ 4  9]\n",
      " [ 3 12]]\n",
      "[[ 4  9]\n",
      " [ 3 12]]\n",
      "finalna matrica je: \n",
      "[[30. 36.]\n",
      " [26. 51.]]\n"
     ]
    }
   ],
   "source": [
    "# Zadatak2\n",
    "kf = StratifiedKFold(n_splits=5, shuffle=True)\n",
    "indexes = kf.split(X, y)\n",
    "fin_conf_mat = np.zeros((len(np.unique(y)),len(np.unique(y))))\n",
    "for train_index, test_index in indexes:\n",
    "    classifier = KNeighborsClassifier(n_neighbors=5, metric='hamming')\n",
    "    classifier.fit(X.iloc[train_index,:], y.iloc[train_index])\n",
    "    y_pred = classifier.predict(X.iloc[test_index,:])\n",
    "    conf_mat = confusion_matrix(y.iloc[test_index], y_pred)\n",
    "    print(conf_mat)\n",
    "    fin_conf_mat += conf_mat\n",
    "print('finalna matrica je: ')\n",
    "print(fin_conf_mat)\n"
   ]
  },
  {
   "cell_type": "code",
   "execution_count": 9,
   "metadata": {},
   "outputs": [
    {
     "name": "stdout",
     "output_type": "stream",
     "text": [
      "precision:  0.5862068965517241\n",
      "accuracy:  0.5664335664335665\n",
      "sensitivity/recall:  0.6623376623376623\n",
      "specificity:  0.45454545454545453\n",
      "F score:  0.6219512195121951\n"
     ]
    }
   ],
   "source": [
    "TP = fin_conf_mat[1, 1]\n",
    "TN = fin_conf_mat[0, 0]\n",
    "FP = fin_conf_mat[0, 1]\n",
    "FN = fin_conf_mat[1, 0]\n",
    "precision = TP/(TP+FP)\n",
    "accuracy = (TP+TN)/(TP+TN+FP+FN)\n",
    "sensitivity = TP/(TP+FN)\n",
    "specificity = TN/(TN+FP)\n",
    "F_score = 2*precision*sensitivity/(precision+sensitivity)\n",
    "print('precision: ', precision)\n",
    "print('accuracy: ', accuracy)\n",
    "print('sensitivity/recall: ', sensitivity)\n",
    "print('specificity: ', specificity)\n",
    "print('F score: ', F_score)"
   ]
  },
  {
   "cell_type": "code",
   "execution_count": 10,
   "metadata": {},
   "outputs": [],
   "source": [
    "# Zadatak3\n",
    "# podela trening podataka na trening i validacioni\n",
    "X_train_1, X_val, y_train_1, y_val = train_test_split(X_train, y_train, test_size=0.1, random_state=10, stratify=y_train)\n",
    "\n",
    "error = []\n",
    "# Calculating error for K values between 1 and 40\n",
    "for i in range(1, 40):\n",
    "    knn = KNeighborsClassifier(n_neighbors=i, metric='hamming')\n",
    "    knn.fit(X_train_1, y_train_1)\n",
    "    pred_i = knn.predict(X_val)\n",
    "    error.append(np.mean(pred_i != y_val))"
   ]
  },
  {
   "cell_type": "code",
   "execution_count": 11,
   "metadata": {},
   "outputs": [
    {
     "data": {
      "text/plain": [
       "Text(0, 0.5, 'Mean Error')"
      ]
     },
     "execution_count": 11,
     "metadata": {},
     "output_type": "execute_result"
    },
    {
     "data": {
      "image/png": "[encoded data removed]",
      "text/plain": [
       "<Figure size 864x432 with 1 Axes>"
      ]
     },
     "metadata": {
      "needs_background": "light"
     },
     "output_type": "display_data"
    }
   ],
   "source": [
    "plt.figure(figsize=(12, 6))\n",
    "plt.plot(range(1, 40), error, color='red', linestyle='dashed', marker='o',\n",
    "         markerfacecolor='blue', markersize=10)\n",
    "plt.title('Error Rate K Value')\n",
    "plt.xlabel('K Value')\n",
    "plt.ylabel('Mean Error')"
   ]
  },
  {
   "cell_type": "code",
   "execution_count": 12,
   "metadata": {},
   "outputs": [
    {
     "name": "stdout",
     "output_type": "stream",
     "text": [
      "[[ 4  9]\n",
      " [ 3 12]]\n",
      "precision:  0.5714285714285714\n",
      "accuracy:  0.5714285714285714\n",
      "sensitivity/recall:  0.8\n",
      "specificity:  0.3076923076923077\n",
      "F score:  0.6666666666666666\n"
     ]
    }
   ],
   "source": [
    "knn = KNeighborsClassifier(n_neighbors=17)\n",
    "knn.fit(pd.concat([X_train_1, X_val], axis=0), pd.concat([y_train_1, y_val], axis=0))\n",
    "pred_y = knn.predict(X_test)\n",
    "conf_mat = confusion_matrix(y.iloc[test_index], y_pred)\n",
    "print(conf_mat)\n",
    "TP = conf_mat[1, 1]\n",
    "TN = conf_mat[0, 0]\n",
    "FP = conf_mat[0, 1]\n",
    "FN = conf_mat[1, 0]\n",
    "precision = TP/(TP+FP)\n",
    "accuracy = (TP+TN)/(TP+TN+FP+FN)\n",
    "sensitivity = TP/(TP+FN)\n",
    "specificity = TN/(TN+FP)\n",
    "F_score = 2*precision*sensitivity/(precision+sensitivity)\n",
    "print('precision: ', precision)\n",
    "print('accuracy: ', accuracy)\n",
    "print('sensitivity/recall: ', sensitivity)\n",
    "print('specificity: ', specificity)\n",
    "print('F score: ', F_score)"
   ]
  },
  {
   "cell_type": "code",
   "execution_count": 13,
   "metadata": {},
   "outputs": [
    {
     "name": "stdout",
     "output_type": "stream",
     "text": [
      "[[ 3 11]\n",
      " [ 2 14]]\n",
      "[[7 6]\n",
      " [9 7]]\n",
      "[[8 5]\n",
      " [7 8]]\n",
      "[[ 4  9]\n",
      " [ 1 14]]\n",
      "[[ 4  9]\n",
      " [ 2 13]]\n",
      "finalna matrica je: \n",
      "[[26. 40.]\n",
      " [21. 56.]]\n"
     ]
    }
   ],
   "source": [
    "# Zadatak4\n",
    "kf = StratifiedKFold(n_splits=5, shuffle=True)\n",
    "indexes = kf.split(X, y)\n",
    "fin_conf_mat = np.zeros((len(np.unique(y)),len(np.unique(y))))\n",
    "for train_index, test_index in indexes:\n",
    "    classifier = KNeighborsClassifier(n_neighbors=30, metric='hamming')\n",
    "    classifier.fit(X.iloc[train_index,:], y.iloc[train_index])\n",
    "    y_pred = classifier.predict(X.iloc[test_index,:])\n",
    "    conf_mat = confusion_matrix(y.iloc[test_index], y_pred)\n",
    "    print(conf_mat)\n",
    "    fin_conf_mat += conf_mat\n",
    "print('finalna matrica je: ')\n",
    "print(fin_conf_mat)"
   ]
  },
  {
   "cell_type": "code",
   "execution_count": 14,
   "metadata": {},
   "outputs": [
    {
     "name": "stdout",
     "output_type": "stream",
     "text": [
      "precision:  0.5833333333333334\n",
      "accuracy:  0.5734265734265734\n",
      "sensitivity/recall:  0.7272727272727273\n",
      "specificity:  0.3939393939393939\n",
      "F score:  0.6473988439306358\n"
     ]
    }
   ],
   "source": [
    "TP = fin_conf_mat[1, 1]\n",
    "TN = fin_conf_mat[0, 0]\n",
    "FP = fin_conf_mat[0, 1]\n",
    "FN = fin_conf_mat[1, 0]\n",
    "precision = TP/(TP+FP)\n",
    "accuracy = (TP+TN)/(TP+TN+FP+FN)\n",
    "sensitivity = TP/(TP+FN)\n",
    "specificity = TN/(TN+FP)\n",
    "F_score = 2*precision*sensitivity/(precision+sensitivity)\n",
    "print('precision: ', precision)\n",
    "print('accuracy: ', accuracy)\n",
    "print('sensitivity/recall: ', sensitivity)\n",
    "print('specificity: ', specificity)\n",
    "print('F score: ', F_score)"
   ]
  },
  {
   "cell_type": "code",
   "execution_count": null,
   "metadata": {},
   "outputs": [],
   "source": []
  }
 ],
 "metadata": {
  "kernelspec": {
   "display_name": "Python 3",
   "language": "python",
   "name": "python3"
  },
  "language_info": {
   "codemirror_mode": {
    "name": "ipython",
    "version": 3
   },
   "file_extension": ".py",
   "mimetype": "text/x-python",
   "name": "python",
   "nbconvert_exporter": "python",
   "pygments_lexer": "ipython3",
   "version": "3.7.3"
  }
 },
 "nbformat": 4,
 "nbformat_minor": 2
}
