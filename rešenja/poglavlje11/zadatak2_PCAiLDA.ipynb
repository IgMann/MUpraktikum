{
 "cells": [
  {
   "cell_type": "code",
   "execution_count": 1,
   "metadata": {},
   "outputs": [],
   "source": [
    "import matplotlib.pyplot as plt\n",
    "import pandas as pd\n",
    "import numpy as np\n",
    "\n",
    "from sklearn.decomposition import PCA\n",
    "from sklearn.discriminant_analysis import LinearDiscriminantAnalysis\n",
    "from sklearn.model_selection import train_test_split\n",
    "from sklearn.neighbors import KNeighborsClassifier\n",
    "from sklearn.metrics import confusion_matrix\n",
    "from sklearn.preprocessing import StandardScaler"
   ]
  },
  {
   "cell_type": "code",
   "execution_count": 2,
   "metadata": {},
   "outputs": [
    {
     "data": {
      "text/html": [
       "<div>\n",
       "<style scoped>\n",
       "    .dataframe tbody tr th:only-of-type {\n",
       "        vertical-align: middle;\n",
       "    }\n",
       "\n",
       "    .dataframe tbody tr th {\n",
       "        vertical-align: top;\n",
       "    }\n",
       "\n",
       "    .dataframe thead th {\n",
       "        text-align: right;\n",
       "    }\n",
       "</style>\n",
       "<table border=\"1\" class=\"dataframe\">\n",
       "  <thead>\n",
       "    <tr style=\"text-align: right;\">\n",
       "      <th></th>\n",
       "      <th>label</th>\n",
       "      <th>pixel0</th>\n",
       "      <th>pixel1</th>\n",
       "      <th>pixel2</th>\n",
       "      <th>pixel3</th>\n",
       "      <th>pixel4</th>\n",
       "      <th>pixel5</th>\n",
       "      <th>pixel6</th>\n",
       "      <th>pixel7</th>\n",
       "      <th>pixel8</th>\n",
       "      <th>...</th>\n",
       "      <th>pixel774</th>\n",
       "      <th>pixel775</th>\n",
       "      <th>pixel776</th>\n",
       "      <th>pixel777</th>\n",
       "      <th>pixel778</th>\n",
       "      <th>pixel779</th>\n",
       "      <th>pixel780</th>\n",
       "      <th>pixel781</th>\n",
       "      <th>pixel782</th>\n",
       "      <th>pixel783</th>\n",
       "    </tr>\n",
       "  </thead>\n",
       "  <tbody>\n",
       "    <tr>\n",
       "      <th>0</th>\n",
       "      <td>1</td>\n",
       "      <td>0</td>\n",
       "      <td>0</td>\n",
       "      <td>0</td>\n",
       "      <td>0</td>\n",
       "      <td>0</td>\n",
       "      <td>0</td>\n",
       "      <td>0</td>\n",
       "      <td>0</td>\n",
       "      <td>0</td>\n",
       "      <td>...</td>\n",
       "      <td>0</td>\n",
       "      <td>0</td>\n",
       "      <td>0</td>\n",
       "      <td>0</td>\n",
       "      <td>0</td>\n",
       "      <td>0</td>\n",
       "      <td>0</td>\n",
       "      <td>0</td>\n",
       "      <td>0</td>\n",
       "      <td>0</td>\n",
       "    </tr>\n",
       "    <tr>\n",
       "      <th>1</th>\n",
       "      <td>0</td>\n",
       "      <td>0</td>\n",
       "      <td>0</td>\n",
       "      <td>0</td>\n",
       "      <td>0</td>\n",
       "      <td>0</td>\n",
       "      <td>0</td>\n",
       "      <td>0</td>\n",
       "      <td>0</td>\n",
       "      <td>0</td>\n",
       "      <td>...</td>\n",
       "      <td>0</td>\n",
       "      <td>0</td>\n",
       "      <td>0</td>\n",
       "      <td>0</td>\n",
       "      <td>0</td>\n",
       "      <td>0</td>\n",
       "      <td>0</td>\n",
       "      <td>0</td>\n",
       "      <td>0</td>\n",
       "      <td>0</td>\n",
       "    </tr>\n",
       "    <tr>\n",
       "      <th>2</th>\n",
       "      <td>1</td>\n",
       "      <td>0</td>\n",
       "      <td>0</td>\n",
       "      <td>0</td>\n",
       "      <td>0</td>\n",
       "      <td>0</td>\n",
       "      <td>0</td>\n",
       "      <td>0</td>\n",
       "      <td>0</td>\n",
       "      <td>0</td>\n",
       "      <td>...</td>\n",
       "      <td>0</td>\n",
       "      <td>0</td>\n",
       "      <td>0</td>\n",
       "      <td>0</td>\n",
       "      <td>0</td>\n",
       "      <td>0</td>\n",
       "      <td>0</td>\n",
       "      <td>0</td>\n",
       "      <td>0</td>\n",
       "      <td>0</td>\n",
       "    </tr>\n",
       "    <tr>\n",
       "      <th>3</th>\n",
       "      <td>4</td>\n",
       "      <td>0</td>\n",
       "      <td>0</td>\n",
       "      <td>0</td>\n",
       "      <td>0</td>\n",
       "      <td>0</td>\n",
       "      <td>0</td>\n",
       "      <td>0</td>\n",
       "      <td>0</td>\n",
       "      <td>0</td>\n",
       "      <td>...</td>\n",
       "      <td>0</td>\n",
       "      <td>0</td>\n",
       "      <td>0</td>\n",
       "      <td>0</td>\n",
       "      <td>0</td>\n",
       "      <td>0</td>\n",
       "      <td>0</td>\n",
       "      <td>0</td>\n",
       "      <td>0</td>\n",
       "      <td>0</td>\n",
       "    </tr>\n",
       "    <tr>\n",
       "      <th>4</th>\n",
       "      <td>0</td>\n",
       "      <td>0</td>\n",
       "      <td>0</td>\n",
       "      <td>0</td>\n",
       "      <td>0</td>\n",
       "      <td>0</td>\n",
       "      <td>0</td>\n",
       "      <td>0</td>\n",
       "      <td>0</td>\n",
       "      <td>0</td>\n",
       "      <td>...</td>\n",
       "      <td>0</td>\n",
       "      <td>0</td>\n",
       "      <td>0</td>\n",
       "      <td>0</td>\n",
       "      <td>0</td>\n",
       "      <td>0</td>\n",
       "      <td>0</td>\n",
       "      <td>0</td>\n",
       "      <td>0</td>\n",
       "      <td>0</td>\n",
       "    </tr>\n",
       "  </tbody>\n",
       "</table>\n",
       "<p>5 rows × 785 columns</p>\n",
       "</div>"
      ],
      "text/plain": [
       "   label  pixel0  pixel1  pixel2  pixel3  pixel4  pixel5  pixel6  pixel7  \\\n",
       "0      1       0       0       0       0       0       0       0       0   \n",
       "1      0       0       0       0       0       0       0       0       0   \n",
       "2      1       0       0       0       0       0       0       0       0   \n",
       "3      4       0       0       0       0       0       0       0       0   \n",
       "4      0       0       0       0       0       0       0       0       0   \n",
       "\n",
       "   pixel8  ...  pixel774  pixel775  pixel776  pixel777  pixel778  pixel779  \\\n",
       "0       0  ...         0         0         0         0         0         0   \n",
       "1       0  ...         0         0         0         0         0         0   \n",
       "2       0  ...         0         0         0         0         0         0   \n",
       "3       0  ...         0         0         0         0         0         0   \n",
       "4       0  ...         0         0         0         0         0         0   \n",
       "\n",
       "   pixel780  pixel781  pixel782  pixel783  \n",
       "0         0         0         0         0  \n",
       "1         0         0         0         0  \n",
       "2         0         0         0         0  \n",
       "3         0         0         0         0  \n",
       "4         0         0         0         0  \n",
       "\n",
       "[5 rows x 785 columns]"
      ]
     },
     "execution_count": 2,
     "metadata": {},
     "output_type": "execute_result"
    }
   ],
   "source": [
    "data = pd.read_csv('train.csv')\n",
    "data.head()"
   ]
  },
  {
   "cell_type": "code",
   "execution_count": 3,
   "metadata": {},
   "outputs": [
    {
     "name": "stdout",
     "output_type": "stream",
     "text": [
      "[1 0 4 7 3 5 8 9 2 6]\n"
     ]
    }
   ],
   "source": [
    "X = data.iloc[:,1:]\n",
    "y = data.iloc[:,0]\n",
    "target_names = y.unique()\n",
    "print(target_names)\n",
    "\n",
    "s = StandardScaler()\n",
    "X_std = s.fit_transform(X)"
   ]
  },
  {
   "cell_type": "code",
   "execution_count": null,
   "metadata": {},
   "outputs": [],
   "source": [
    "#zastupljenost klasa"
   ]
  },
  {
   "cell_type": "code",
   "execution_count": null,
   "metadata": {},
   "outputs": [],
   "source": [
    "pca = PCA(n_components=2)\n",
    "pca.fit(X_std)\n",
    "X_pca = pca.transform(X_std)\n",
    "\n",
    "lda = LinearDiscriminantAnalysis(n_components=2)\n",
    "lda.fit(X_std, y)\n",
    "X_lda = lda.transform(X_std)"
   ]
  },
  {
   "cell_type": "code",
   "execution_count": null,
   "metadata": {},
   "outputs": [],
   "source": [
    "plt.figure(figsize=(16,9))\n",
    "\n",
    "for i in target_names:\n",
    "    plt.scatter(X_pca[y == i, 0], X_pca[y == i, 1], alpha=.5, label=i)\n",
    "plt.legend()\n",
    "plt.title('PCA of MNIST dataset')"
   ]
  },
  {
   "cell_type": "code",
   "execution_count": null,
   "metadata": {},
   "outputs": [],
   "source": [
    "plt.figure(figsize=(16,9))\n",
    "\n",
    "for i in target_names:\n",
    "    plt.scatter(X_lda[y == i, 0], X_lda[y == i, 1], alpha=.5, label=i)\n",
    "plt.legend()\n",
    "plt.title('LDA of MNIST dataset')"
   ]
  },
  {
   "cell_type": "code",
   "execution_count": 4,
   "metadata": {},
   "outputs": [],
   "source": [
    "# Podela podataka na skup za obuku i skup za testiranje\n",
    "X_train, X_test, y_train, y_test = train_test_split(X, y, test_size=0.7, stratify=y, random_state=42)"
   ]
  },
  {
   "cell_type": "code",
   "execution_count": 5,
   "metadata": {},
   "outputs": [],
   "source": [
    "#standardizacija\n",
    "s = StandardScaler()\n",
    "s.fit(X_train)\n",
    "X_train_std = s.transform(X_train)\n",
    "X_test_std = s.transform(X_test)"
   ]
  },
  {
   "cell_type": "code",
   "execution_count": 18,
   "metadata": {},
   "outputs": [
    {
     "name": "stdout",
     "output_type": "stream",
     "text": [
      "[[2821    1   10    2    2   11   31    2   12    0]\n",
      " [   0 3245    8    4    5    1    8    1    5    2]\n",
      " [  35   46 2603   83   31   10   29   49   24   14]\n",
      " [   7   10   51 2744    3  104    3   46   56   22]\n",
      " [   8   30   31    9 2566   14   15   24   12  141]\n",
      " [  20    5   13  101    8 2339   68    5   68   29]\n",
      " [  35    6   10    1   10   31 2793    0   10    0]\n",
      " [   4   38   23   13   26    1    0 2797    2  177]\n",
      " [  30   45   27   71   26  149   16   10 2423   47]\n",
      " [  13   11   14   20  100   16    0  157   15 2586]]\n",
      "udeo ispravno pogodjenih org:  0.9155442176870748\n",
      "vreme trajanja je:  388.08554315567017  sekundi.\n"
     ]
    }
   ],
   "source": [
    "# klasifikacija bez redukcije dimenzionanosti\n",
    "\n",
    "import time\n",
    "start = time.time()\n",
    "\n",
    "knn1 = KNeighborsClassifier(n_neighbors=1)\n",
    "knn1.fit(X_train_std, y_train)\n",
    "y_pred1 = knn1.predict(X_test_std)\n",
    "c1 = confusion_matrix(y_test, y_pred1)\n",
    "print(c1)\n",
    "print(\"udeo ispravno pogodjenih org: \", np.trace(c1)/sum(sum(c1)))\n",
    "\n",
    "end = time.time()\n",
    "print('vreme trajanja je: ', end - start, ' sekundi.')"
   ]
  },
  {
   "cell_type": "code",
   "execution_count": 19,
   "metadata": {},
   "outputs": [
    {
     "data": {
      "text/plain": [
       "[<matplotlib.lines.Line2D at 0x15390ae6160>]"
      ]
     },
     "execution_count": 19,
     "metadata": {},
     "output_type": "execute_result"
    },
    {
     "data": {
      "image/png": "[encoded data removed]",
      "text/plain": [
       "<Figure size 432x288 with 1 Axes>"
      ]
     },
     "metadata": {
      "needs_background": "light"
     },
     "output_type": "display_data"
    }
   ],
   "source": [
    "#zavisnost objašnjene varijanse od broja PCA komponenti\n",
    "pca = PCA(n_components=None)\n",
    "pca.fit(X_train_std)\n",
    "plt.plot(np.cumsum(pca.explained_variance_ratio_))"
   ]
  },
  {
   "cell_type": "code",
   "execution_count": 20,
   "metadata": {},
   "outputs": [
    {
     "name": "stdout",
     "output_type": "stream",
     "text": [
      "Redukovani prostor ima dimenziju:  213\n",
      "[[2831    2   11    2    1   11   24    1    9    0]\n",
      " [   0 3246    8    3    4    1    7    2    6    2]\n",
      " [  25   30 2662   62   26    7   29   43   30   10]\n",
      " [   6   13   53 2730    4  104    4   38   68   26]\n",
      " [   6   15   29    7 2621    9   13   19   14  117]\n",
      " [  19    5    9   83    5 2382   68    5   55   25]\n",
      " [  27    5   11    1    7   28 2806    0   11    0]\n",
      " [   3   29   26   12   26    2    0 2828    5  150]\n",
      " [  21   38   22   51   28  120   12    6 2508   38]\n",
      " [  11    8   11   19   99   16    0  117   17 2634]]\n",
      "udeo ispravno pogodjenih pca:  0.9268027210884354\n",
      "vreme trajanja je:  125.03963112831116  sekundi.\n"
     ]
    }
   ],
   "source": [
    "# SA PCA\n",
    "pca = PCA(n_components=0.9)\n",
    "pca.fit(X_train_std)\n",
    "X_train_r = pca.transform(X_train_std)\n",
    "X_test_r = pca.transform(X_test_std)\n",
    "print('Redukovani prostor ima dimenziju: ', pca.n_components_)\n",
    "\n",
    "import time\n",
    "start = time.time()\n",
    "\n",
    "knn2 = KNeighborsClassifier(n_neighbors=1)\n",
    "knn2.fit(X_train_r, y_train)\n",
    "y_pred2 = knn2.predict(X_test_r)\n",
    "c2 = confusion_matrix(y_test, y_pred2)\n",
    "print(c2)\n",
    "print(\"udeo ispravno pogodjenih pca: \", np.trace(c2)/sum(sum(c2)))\n",
    "\n",
    "end = time.time()\n",
    "print('vreme trajanja je: ', end - start, ' sekundi.')"
   ]
  },
  {
   "cell_type": "code",
   "execution_count": 15,
   "metadata": {},
   "outputs": [
    {
     "name": "stdout",
     "output_type": "stream",
     "text": [
      "[[2764    2   16    4    5   39   38    3   13    8]\n",
      " [   2 3150   20   13    9    4    9   12   52    8]\n",
      " [  31   37 2460   91   45   35   55   68   78   24]\n",
      " [  16   19  123 2500    9  145   10   45  125   54]\n",
      " [   7   15   26    3 2536   25   33   14   27  164]\n",
      " [  37   30   26  149   13 2138   68   18  143   34]\n",
      " [  35    5   47    3   18   66 2678    2   33    9]\n",
      " [   8   31   39   36   50   24    2 2723   18  150]\n",
      " [  29  117   64  115   49  152   30    7 2223   58]\n",
      " [  21    5   16   28  182   38    4  113   41 2484]]\n",
      "udeo ispravno pogodjenih lda:  0.8726530612244898\n"
     ]
    }
   ],
   "source": [
    "# SA LDA\n",
    "lda = LinearDiscriminantAnalysis(n_components=9)\n",
    "lda.fit(X_train_std, y_train)\n",
    "X_train_r = lda.transform(X_train_std)\n",
    "X_test_r = lda.transform(X_test_std)\n",
    "\n",
    "knn3 = KNeighborsClassifier(n_neighbors=1)\n",
    "knn3.fit(X_train_r, y_train)\n",
    "y_pred3 = knn3.predict(X_test_r)\n",
    "c3 = confusion_matrix(y_test, y_pred3)\n",
    "print(c3)\n",
    "print(\"udeo ispravno pogodjenih lda: \", np.trace(c3)/sum(sum(c2)))"
   ]
  },
  {
   "cell_type": "code",
   "execution_count": null,
   "metadata": {},
   "outputs": [],
   "source": []
  }
 ],
 "metadata": {
  "kernelspec": {
   "display_name": "Python 3",
   "language": "python",
   "name": "python3"
  },
  "language_info": {
   "codemirror_mode": {
    "name": "ipython",
    "version": 3
   },
   "file_extension": ".py",
   "mimetype": "text/x-python",
   "name": "python",
   "nbconvert_exporter": "python",
   "pygments_lexer": "ipython3",
   "version": "3.7.3"
  }
 },
 "nbformat": 4,
 "nbformat_minor": 2
}
